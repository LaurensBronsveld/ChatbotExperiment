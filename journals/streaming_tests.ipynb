{
 "cells": [
  {
   "cell_type": "code",
   "execution_count": 4,
   "metadata": {},
   "outputs": [],
   "source": [
    "from datetime import date\n",
    "\n",
    "from typing_extensions import TypedDict\n",
    "\n",
    "from pydantic_ai import Agent\n",
    "\n",
    "\n",
    "class UserProfile(TypedDict, total=False):\n",
    "    name: str\n",
    "    dob: date\n",
    "    bio: str\n",
    "\n",
    "\n",
    "agent = Agent(\n",
    "    'openai:gpt-4o',\n",
    "    result_type=UserProfile,\n",
    "    system_prompt='Extract a user profile from the input',\n",
    ")\n",
    "\n",
    "\n",
    "async def main():\n",
    "    user_input = 'My name is Ben, I was born on January 28th 1990, I like the chain the dog and the pyramid.'\n",
    "    async with agent.run_stream(user_input) as result:\n",
    "        async for profile in result.stream():\n",
    "            print(profile)\n",
    "            #> {'name': 'Ben'}\n",
    "            #> {'name': 'Ben'}\n",
    "            #> {'name': 'Ben', 'dob': date(1990, 1, 28), 'bio': 'Likes'}\n",
    "            #> {'name': 'Ben', 'dob': date(1990, 1, 28), 'bio': 'Likes the chain the '}\n",
    "            #> {'name': 'Ben', 'dob': date(1990, 1, 28), 'bio': 'Likes the chain the dog and the pyr'}\n",
    "            #> {'name': 'Ben', 'dob': date(1990, 1, 28), 'bio': 'Likes the chain the dog and the pyramid'}\n",
    "            #> {'name': 'Ben', 'dob': date(1990, 1, 28), 'bio': 'Likes the chain the dog and the pyramid'}"
   ]
  },
  {
   "cell_type": "code",
   "execution_count": 11,
   "metadata": {},
   "outputs": [
    {
     "name": "stdout",
     "output_type": "stream",
     "text": [
      "{'name': 'Ben'}\n",
      "{'name': 'Ben'}\n",
      "{'name': 'Ben'}\n",
      "{'name': 'Ben', 'dob': datetime.date(1990, 1, 28), 'bio': ''}\n",
      "{'name': 'Ben', 'dob': datetime.date(1990, 1, 28), 'bio': 'I like the chain the dog'}\n",
      "{'name': 'Ben', 'dob': datetime.date(1990, 1, 28), 'bio': 'I like the chain the dog and the pyramid.'}\n",
      "{'name': 'Ben', 'dob': datetime.date(1990, 1, 28), 'bio': 'I like the chain the dog and the pyramid.'}\n"
     ]
    }
   ],
   "source": [
    "await main()"
   ]
  }
 ],
 "metadata": {
  "kernelspec": {
   "display_name": "my_chatbot_env",
   "language": "python",
   "name": "python3"
  },
  "language_info": {
   "codemirror_mode": {
    "name": "ipython",
    "version": 3
   },
   "file_extension": ".py",
   "mimetype": "text/x-python",
   "name": "python",
   "nbconvert_exporter": "python",
   "pygments_lexer": "ipython3",
   "version": "3.9.21"
  }
 },
 "nbformat": 4,
 "nbformat_minor": 2
}
