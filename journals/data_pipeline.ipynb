{
 "cells": [
  {
   "cell_type": "markdown",
   "metadata": {},
   "source": [
    "<h1> Data preparation\n"
   ]
  },
  {
   "cell_type": "markdown",
   "metadata": {},
   "source": [
    "\n",
    "This journal contains the pipeline to download data from the GitLab handbook and store it into a LanceDB Database with embeddings to be used for RAG\n"
   ]
  },
  {
   "cell_type": "code",
   "execution_count": 1,
   "metadata": {},
   "outputs": [],
   "source": [
    "import lancedb\n",
    "from lancedb.pydantic import LanceModel, Vector\n",
    "from lancedb.embeddings import get_registry\n",
    "from typing import List\n",
    "from pydantic_ai import Agent\n",
    "from pydantic import BaseModel, Field\n",
    "from pydantic_ai.models.gemini import GeminiModel\n",
    "import os, datetime, requests, time\n",
    "\n",
    "from IPython.display import display, HTML\n",
    "import ipywidgets as widgets\n",
    "\n",
    "from openai import OpenAI\n",
    "from duckduckgo_search import DDGS\n",
    "from __future__ import annotations as _annotations\n",
    "\n",
    "import os\n",
    "\n",
    "import re\n",
    "import tiktoken\n",
    "from langchain.text_splitter import RecursiveCharacterTextSplitter\n",
    "\n",
    "\n",
    "import pandas as pd"
   ]
  },
  {
   "cell_type": "markdown",
   "metadata": {},
   "source": [
    "Download gitlab handbook contents from gitlab and store it in Data folder\n",
    "This code currently stops halfway while retrieving the data, so in the mean time we will continue using a predownloaded dataset"
   ]
  },
  {
   "cell_type": "code",
   "execution_count": 16,
   "metadata": {},
   "outputs": [
    {
     "name": "stdout",
     "output_type": "stream",
     "text": [
      "https://gitlab.com/api/v4/projects/gitlab-com%2Fcontent-sites%2Fhandbook/repository/files/content%2Fall-content%2F_index.md/raw\n",
      "Downloaded: content/all-content/_index.md to ../data/gitlab_handbook\\content/all-content/_index.md\n",
      "https://gitlab.com/api/v4/projects/gitlab-com%2Fcontent-sites%2Fhandbook/repository/files/content%2Fhandbook%2Fabout%2Fediting-handbook%2F_index.md/raw\n",
      "Downloaded: content/handbook/about/editing-handbook/_index.md to ../data/gitlab_handbook\\content/handbook/about/editing-handbook/_index.md\n",
      "https://gitlab.com/api/v4/projects/gitlab-com%2Fcontent-sites%2Fhandbook/repository/files/content%2Fhandbook%2Fabout%2Fediting-handbook%2Fedit-team-page.md/raw\n",
      "Downloaded: content/handbook/about/editing-handbook/edit-team-page.md to ../data/gitlab_handbook\\content/handbook/about/editing-handbook/edit-team-page.md\n",
      "https://gitlab.com/api/v4/projects/gitlab-com%2Fcontent-sites%2Fhandbook/repository/files/content%2Fhandbook%2Fabout%2Fediting-handbook%2Fpractical-handbook-edits.md/raw\n",
      "Downloaded: content/handbook/about/editing-handbook/practical-handbook-edits.md to ../data/gitlab_handbook\\content/handbook/about/editing-handbook/practical-handbook-edits.md\n",
      "https://gitlab.com/api/v4/projects/gitlab-com%2Fcontent-sites%2Fhandbook/repository/files/content%2Fhandbook%2Fabout%2F_index.md/raw\n",
      "Downloaded: content/handbook/about/_index.md to ../data/gitlab_handbook\\content/handbook/about/_index.md\n",
      "Error occured at content/handbook/about/check-files.sh: 404 Client Error: Not Found for url: https://gitlab.com/api/v4/projects/gitlab-com%2Fcontent-sites%2Fhandbook/repository/tree?path=content%2Fhandbook%2Fabout%2Fcheck-files.sh&recursive=True\n",
      "https://gitlab.com/api/v4/projects/gitlab-com%2Fcontent-sites%2Fhandbook/repository/files/content%2Fhandbook%2Fabout%2Fcontributing.md/raw\n",
      "Downloaded: content/handbook/about/contributing.md to ../data/gitlab_handbook\\content/handbook/about/contributing.md\n",
      "https://gitlab.com/api/v4/projects/gitlab-com%2Fcontent-sites%2Fhandbook/repository/files/content%2Fhandbook%2Fabout%2Fdirection.md/raw\n",
      "Downloaded: content/handbook/about/direction.md to ../data/gitlab_handbook\\content/handbook/about/direction.md\n",
      "https://gitlab.com/api/v4/projects/gitlab-com%2Fcontent-sites%2Fhandbook/repository/files/content%2Fhandbook%2Fabout%2Fediting-handbook%2F_index.md/raw\n",
      "Downloaded: content/handbook/about/editing-handbook/_index.md to ../data/gitlab_handbook\\content/handbook/about/editing-handbook/_index.md\n",
      "https://gitlab.com/api/v4/projects/gitlab-com%2Fcontent-sites%2Fhandbook/repository/files/content%2Fhandbook%2Fabout%2Fediting-handbook%2Fedit-team-page.md/raw\n",
      "Downloaded: content/handbook/about/editing-handbook/edit-team-page.md to ../data/gitlab_handbook\\content/handbook/about/editing-handbook/edit-team-page.md\n",
      "https://gitlab.com/api/v4/projects/gitlab-com%2Fcontent-sites%2Fhandbook/repository/files/content%2Fhandbook%2Fabout%2Fediting-handbook%2Fpractical-handbook-edits.md/raw\n",
      "Downloaded: content/handbook/about/editing-handbook/practical-handbook-edits.md to ../data/gitlab_handbook\\content/handbook/about/editing-handbook/practical-handbook-edits.md\n",
      "https://gitlab.com/api/v4/projects/gitlab-com%2Fcontent-sites%2Fhandbook/repository/files/content%2Fhandbook%2Fabout%2Fescalation.md/raw\n",
      "Downloaded: content/handbook/about/escalation.md to ../data/gitlab_handbook\\content/handbook/about/escalation.md\n",
      "https://gitlab.com/api/v4/projects/gitlab-com%2Fcontent-sites%2Fhandbook/repository/files/content%2Fhandbook%2Fabout%2Fhandbook-usage.md/raw\n",
      "Downloaded: content/handbook/about/handbook-usage.md to ../data/gitlab_handbook\\content/handbook/about/handbook-usage.md\n",
      "https://gitlab.com/api/v4/projects/gitlab-com%2Fcontent-sites%2Fhandbook/repository/files/content%2Fhandbook%2Fabout%2Fmaintenance.md/raw\n",
      "Downloaded: content/handbook/about/maintenance.md to ../data/gitlab_handbook\\content/handbook/about/maintenance.md\n",
      "https://gitlab.com/api/v4/projects/gitlab-com%2Fcontent-sites%2Fhandbook/repository/files/content%2Fhandbook%2Fabout%2Fstyle-guide.md/raw\n",
      "Downloaded: content/handbook/about/style-guide.md to ../data/gitlab_handbook\\content/handbook/about/style-guide.md\n",
      "https://gitlab.com/api/v4/projects/gitlab-com%2Fcontent-sites%2Fhandbook/repository/files/content%2Fhandbook%2Fabout%2Fediting-handbook%2F_index.md/raw\n",
      "Downloaded: content/handbook/about/editing-handbook/_index.md to ../data/gitlab_handbook\\content/handbook/about/editing-handbook/_index.md\n",
      "https://gitlab.com/api/v4/projects/gitlab-com%2Fcontent-sites%2Fhandbook/repository/files/content%2Fhandbook%2Fabout%2Fediting-handbook%2Fedit-team-page.md/raw\n",
      "Downloaded: content/handbook/about/editing-handbook/edit-team-page.md to ../data/gitlab_handbook\\content/handbook/about/editing-handbook/edit-team-page.md\n",
      "https://gitlab.com/api/v4/projects/gitlab-com%2Fcontent-sites%2Fhandbook/repository/files/content%2Fhandbook%2Fabout%2Fediting-handbook%2Fpractical-handbook-edits.md/raw\n",
      "Downloaded: content/handbook/about/editing-handbook/practical-handbook-edits.md to ../data/gitlab_handbook\\content/handbook/about/editing-handbook/practical-handbook-edits.md\n",
      "https://gitlab.com/api/v4/projects/gitlab-com%2Fcontent-sites%2Fhandbook/repository/files/content%2Fhandbook%2Facquisitions%2Facquisition-process%2F_index.md/raw\n",
      "Downloaded: content/handbook/acquisitions/acquisition-process/_index.md to ../data/gitlab_handbook\\content/handbook/acquisitions/acquisition-process/_index.md\n",
      "https://gitlab.com/api/v4/projects/gitlab-com%2Fcontent-sites%2Fhandbook/repository/files/content%2Fhandbook%2Facquisitions%2Facquisition-process%2Facquisition-process-communications.md/raw\n",
      "Downloaded: content/handbook/acquisitions/acquisition-process/acquisition-process-communications.md to ../data/gitlab_handbook\\content/handbook/acquisitions/acquisition-process/acquisition-process-communications.md\n",
      "https://gitlab.com/api/v4/projects/gitlab-com%2Fcontent-sites%2Fhandbook/repository/files/content%2Fhandbook%2Facquisitions%2Facquisition-process%2Fintegration.md/raw\n",
      "Downloaded: content/handbook/acquisitions/acquisition-process/integration.md to ../data/gitlab_handbook\\content/handbook/acquisitions/acquisition-process/integration.md\n",
      "https://gitlab.com/api/v4/projects/gitlab-com%2Fcontent-sites%2Fhandbook/repository/files/content%2Fhandbook%2Facquisitions%2F_index.md/raw\n",
      "Downloaded: content/handbook/acquisitions/_index.md to ../data/gitlab_handbook\\content/handbook/acquisitions/_index.md\n",
      "https://gitlab.com/api/v4/projects/gitlab-com%2Fcontent-sites%2Fhandbook/repository/files/content%2Fhandbook%2Facquisitions%2Facquisition-process%2F_index.md/raw\n",
      "Downloaded: content/handbook/acquisitions/acquisition-process/_index.md to ../data/gitlab_handbook\\content/handbook/acquisitions/acquisition-process/_index.md\n",
      "https://gitlab.com/api/v4/projects/gitlab-com%2Fcontent-sites%2Fhandbook/repository/files/content%2Fhandbook%2Facquisitions%2Facquisition-process%2Facquisition-process-communications.md/raw\n",
      "Downloaded: content/handbook/acquisitions/acquisition-process/acquisition-process-communications.md to ../data/gitlab_handbook\\content/handbook/acquisitions/acquisition-process/acquisition-process-communications.md\n",
      "https://gitlab.com/api/v4/projects/gitlab-com%2Fcontent-sites%2Fhandbook/repository/files/content%2Fhandbook%2Facquisitions%2Facquisition-process%2Fintegration.md/raw\n",
      "Downloaded: content/handbook/acquisitions/acquisition-process/integration.md to ../data/gitlab_handbook\\content/handbook/acquisitions/acquisition-process/integration.md\n",
      "https://gitlab.com/api/v4/projects/gitlab-com%2Fcontent-sites%2Fhandbook/repository/files/content%2Fhandbook%2Facquisitions%2Facquisition-process%2F_index.md/raw\n",
      "Downloaded: content/handbook/acquisitions/acquisition-process/_index.md to ../data/gitlab_handbook\\content/handbook/acquisitions/acquisition-process/_index.md\n",
      "https://gitlab.com/api/v4/projects/gitlab-com%2Fcontent-sites%2Fhandbook/repository/files/content%2Fhandbook%2Facquisitions%2Facquisition-process%2Facquisition-process-communications.md/raw\n",
      "Downloaded: content/handbook/acquisitions/acquisition-process/acquisition-process-communications.md to ../data/gitlab_handbook\\content/handbook/acquisitions/acquisition-process/acquisition-process-communications.md\n",
      "https://gitlab.com/api/v4/projects/gitlab-com%2Fcontent-sites%2Fhandbook/repository/files/content%2Fhandbook%2Facquisitions%2Facquisition-process%2Fintegration.md/raw\n",
      "Downloaded: content/handbook/acquisitions/acquisition-process/integration.md to ../data/gitlab_handbook\\content/handbook/acquisitions/acquisition-process/integration.md\n",
      "https://gitlab.com/api/v4/projects/gitlab-com%2Fcontent-sites%2Fhandbook/repository/files/content%2Fhandbook%2Falliances%2F_index.md/raw\n",
      "Downloaded: content/handbook/alliances/_index.md to ../data/gitlab_handbook\\content/handbook/alliances/_index.md\n",
      "https://gitlab.com/api/v4/projects/gitlab-com%2Fcontent-sites%2Fhandbook/repository/files/content%2Fhandbook%2Falliances%2Fintegration-instructions.md/raw\n",
      "Downloaded: content/handbook/alliances/integration-instructions.md to ../data/gitlab_handbook\\content/handbook/alliances/integration-instructions.md\n",
      "https://gitlab.com/api/v4/projects/gitlab-com%2Fcontent-sites%2Fhandbook/repository/files/content%2Fhandbook%2Fboard-meetings%2F_index.md/raw\n",
      "Downloaded: content/handbook/board-meetings/_index.md to ../data/gitlab_handbook\\content/handbook/board-meetings/_index.md\n",
      "https://gitlab.com/api/v4/projects/gitlab-com%2Fcontent-sites%2Fhandbook/repository/files/content%2Fhandbook%2Fbusiness-technology%2Fengineering%2Finfrastructure%2Freference-links.md/raw\n",
      "Downloaded: content/handbook/business-technology/engineering/infrastructure/reference-links.md to ../data/gitlab_handbook\\content/handbook/business-technology/engineering/infrastructure/reference-links.md\n",
      "https://gitlab.com/api/v4/projects/gitlab-com%2Fcontent-sites%2Fhandbook/repository/files/content%2Fhandbook%2Fbusiness-technology%2Fengineering%2Finfrastructure%2Freference-links.md/raw\n",
      "Downloaded: content/handbook/business-technology/engineering/infrastructure/reference-links.md to ../data/gitlab_handbook\\content/handbook/business-technology/engineering/infrastructure/reference-links.md\n",
      "https://gitlab.com/api/v4/projects/gitlab-com%2Fcontent-sites%2Fhandbook/repository/files/content%2Fhandbook%2Fbusiness-technology%2Fengineering%2Finfrastructure%2Freference-links.md/raw\n",
      "Downloaded: content/handbook/business-technology/engineering/infrastructure/reference-links.md to ../data/gitlab_handbook\\content/handbook/business-technology/engineering/infrastructure/reference-links.md\n",
      "https://gitlab.com/api/v4/projects/gitlab-com%2Fcontent-sites%2Fhandbook/repository/files/content%2Fhandbook%2Fbusiness-technology%2Fentapps-documentation%2Fpolicies%2F_index.md/raw\n",
      "Downloaded: content/handbook/business-technology/entapps-documentation/policies/_index.md to ../data/gitlab_handbook\\content/handbook/business-technology/entapps-documentation/policies/_index.md\n",
      "https://gitlab.com/api/v4/projects/gitlab-com%2Fcontent-sites%2Fhandbook/repository/files/content%2Fhandbook%2Fbusiness-technology%2Fentapps-documentation%2Fpolicies%2Fgitlab-business-continuity-plan.md/raw\n",
      "Downloaded: content/handbook/business-technology/entapps-documentation/policies/gitlab-business-continuity-plan.md to ../data/gitlab_handbook\\content/handbook/business-technology/entapps-documentation/policies/gitlab-business-continuity-plan.md\n",
      "https://gitlab.com/api/v4/projects/gitlab-com%2Fcontent-sites%2Fhandbook/repository/files/content%2Fhandbook%2Fbusiness-technology%2Fentapps-documentation%2Fprocedures%2F_index.md/raw\n",
      "Downloaded: content/handbook/business-technology/entapps-documentation/procedures/_index.md to ../data/gitlab_handbook\\content/handbook/business-technology/entapps-documentation/procedures/_index.md\n",
      "https://gitlab.com/api/v4/projects/gitlab-com%2Fcontent-sites%2Fhandbook/repository/files/content%2Fhandbook%2Fbusiness-technology%2Fentapps-documentation%2F_index.md/raw\n",
      "Downloaded: content/handbook/business-technology/entapps-documentation/_index.md to ../data/gitlab_handbook\\content/handbook/business-technology/entapps-documentation/_index.md\n",
      "https://gitlab.com/api/v4/projects/gitlab-com%2Fcontent-sites%2Fhandbook/repository/files/content%2Fhandbook%2Fbusiness-technology%2Fentapps-documentation%2Fpolicies%2F_index.md/raw\n",
      "Downloaded: content/handbook/business-technology/entapps-documentation/policies/_index.md to ../data/gitlab_handbook\\content/handbook/business-technology/entapps-documentation/policies/_index.md\n",
      "https://gitlab.com/api/v4/projects/gitlab-com%2Fcontent-sites%2Fhandbook/repository/files/content%2Fhandbook%2Fbusiness-technology%2Fentapps-documentation%2Fpolicies%2Fgitlab-business-continuity-plan.md/raw\n",
      "Downloaded: content/handbook/business-technology/entapps-documentation/policies/gitlab-business-continuity-plan.md to ../data/gitlab_handbook\\content/handbook/business-technology/entapps-documentation/policies/gitlab-business-continuity-plan.md\n",
      "https://gitlab.com/api/v4/projects/gitlab-com%2Fcontent-sites%2Fhandbook/repository/files/content%2Fhandbook%2Fbusiness-technology%2Fentapps-documentation%2Fprocedures%2F_index.md/raw\n",
      "Downloaded: content/handbook/business-technology/entapps-documentation/procedures/_index.md to ../data/gitlab_handbook\\content/handbook/business-technology/entapps-documentation/procedures/_index.md\n",
      "https://gitlab.com/api/v4/projects/gitlab-com%2Fcontent-sites%2Fhandbook/repository/files/content%2Fhandbook%2Fbusiness-technology%2Fentapps-documentation%2Fpolicies%2F_index.md/raw\n",
      "Downloaded: content/handbook/business-technology/entapps-documentation/policies/_index.md to ../data/gitlab_handbook\\content/handbook/business-technology/entapps-documentation/policies/_index.md\n",
      "https://gitlab.com/api/v4/projects/gitlab-com%2Fcontent-sites%2Fhandbook/repository/files/content%2Fhandbook%2Fbusiness-technology%2Fentapps-documentation%2Fpolicies%2Fgitlab-business-continuity-plan.md/raw\n",
      "Downloaded: content/handbook/business-technology/entapps-documentation/policies/gitlab-business-continuity-plan.md to ../data/gitlab_handbook\\content/handbook/business-technology/entapps-documentation/policies/gitlab-business-continuity-plan.md\n",
      "https://gitlab.com/api/v4/projects/gitlab-com%2Fcontent-sites%2Fhandbook/repository/files/content%2Fhandbook%2Fbusiness-technology%2Fentapps-documentation%2Fprocedures%2F_index.md/raw\n",
      "Downloaded: content/handbook/business-technology/entapps-documentation/procedures/_index.md to ../data/gitlab_handbook\\content/handbook/business-technology/entapps-documentation/procedures/_index.md\n"
     ]
    },
    {
     "ename": "KeyboardInterrupt",
     "evalue": "",
     "output_type": "error",
     "traceback": [
      "\u001b[1;31m---------------------------------------------------------------------------\u001b[0m",
      "\u001b[1;31mKeyboardInterrupt\u001b[0m                         Traceback (most recent call last)",
      "Cell \u001b[1;32mIn[16], line 48\u001b[0m\n\u001b[0;32m     45\u001b[0m FOLDER_PATH \u001b[38;5;241m=\u001b[39m \u001b[38;5;124m\"\u001b[39m\u001b[38;5;124mcontent\u001b[39m\u001b[38;5;124m\"\u001b[39m\n\u001b[0;32m     46\u001b[0m SAVE_PATH \u001b[38;5;241m=\u001b[39m \u001b[38;5;124m\"\u001b[39m\u001b[38;5;124m../data/gitlab_handbook\u001b[39m\u001b[38;5;124m\"\u001b[39m\n\u001b[1;32m---> 48\u001b[0m \u001b[43mdownload_gitlab_data\u001b[49m\u001b[43m(\u001b[49m\u001b[43mPROJECT_ID\u001b[49m\u001b[43m,\u001b[49m\u001b[43m \u001b[49m\u001b[43mFOLDER_PATH\u001b[49m\u001b[43m,\u001b[49m\u001b[43m \u001b[49m\u001b[43mSAVE_PATH\u001b[49m\u001b[43m)\u001b[49m\n",
      "Cell \u001b[1;32mIn[16], line 40\u001b[0m, in \u001b[0;36mdownload_gitlab_data\u001b[1;34m(project_id, gitlab_path, save_path)\u001b[0m\n\u001b[0;32m     38\u001b[0m             download_files_in_folder(project_id, file, save_path)\n\u001b[0;32m     39\u001b[0m         \u001b[38;5;28;01melse\u001b[39;00m:\n\u001b[1;32m---> 40\u001b[0m             \u001b[43mdownload_gitlab_data\u001b[49m\u001b[43m(\u001b[49m\u001b[43mproject_id\u001b[49m\u001b[43m,\u001b[49m\u001b[43m \u001b[49m\u001b[38;5;124;43mf\u001b[39;49m\u001b[38;5;124;43m'\u001b[39;49m\u001b[38;5;132;43;01m{\u001b[39;49;00m\u001b[43mfile\u001b[49m\u001b[43m[\u001b[49m\u001b[38;5;124;43m\"\u001b[39;49m\u001b[38;5;124;43mpath\u001b[39;49m\u001b[38;5;124;43m\"\u001b[39;49m\u001b[43m]\u001b[49m\u001b[38;5;132;43;01m}\u001b[39;49;00m\u001b[38;5;124;43m'\u001b[39;49m\u001b[43m,\u001b[49m\u001b[43m \u001b[49m\u001b[43msave_path\u001b[49m\u001b[43m)\u001b[49m\n\u001b[0;32m     41\u001b[0m \u001b[38;5;28;01mexcept\u001b[39;00m \u001b[38;5;167;01mException\u001b[39;00m \u001b[38;5;28;01mas\u001b[39;00m e:\n\u001b[0;32m     42\u001b[0m     \u001b[38;5;28mprint\u001b[39m(\u001b[38;5;124mf\u001b[39m\u001b[38;5;124m\"\u001b[39m\u001b[38;5;124mError occured at \u001b[39m\u001b[38;5;132;01m{\u001b[39;00mgitlab_path\u001b[38;5;132;01m}\u001b[39;00m\u001b[38;5;124m: \u001b[39m\u001b[38;5;132;01m{\u001b[39;00me\u001b[38;5;132;01m}\u001b[39;00m\u001b[38;5;124m\"\u001b[39m)\n",
      "Cell \u001b[1;32mIn[16], line 40\u001b[0m, in \u001b[0;36mdownload_gitlab_data\u001b[1;34m(project_id, gitlab_path, save_path)\u001b[0m\n\u001b[0;32m     38\u001b[0m             download_files_in_folder(project_id, file, save_path)\n\u001b[0;32m     39\u001b[0m         \u001b[38;5;28;01melse\u001b[39;00m:\n\u001b[1;32m---> 40\u001b[0m             \u001b[43mdownload_gitlab_data\u001b[49m\u001b[43m(\u001b[49m\u001b[43mproject_id\u001b[49m\u001b[43m,\u001b[49m\u001b[43m \u001b[49m\u001b[38;5;124;43mf\u001b[39;49m\u001b[38;5;124;43m'\u001b[39;49m\u001b[38;5;132;43;01m{\u001b[39;49;00m\u001b[43mfile\u001b[49m\u001b[43m[\u001b[49m\u001b[38;5;124;43m\"\u001b[39;49m\u001b[38;5;124;43mpath\u001b[39;49m\u001b[38;5;124;43m\"\u001b[39;49m\u001b[43m]\u001b[49m\u001b[38;5;132;43;01m}\u001b[39;49;00m\u001b[38;5;124;43m'\u001b[39;49m\u001b[43m,\u001b[49m\u001b[43m \u001b[49m\u001b[43msave_path\u001b[49m\u001b[43m)\u001b[49m\n\u001b[0;32m     41\u001b[0m \u001b[38;5;28;01mexcept\u001b[39;00m \u001b[38;5;167;01mException\u001b[39;00m \u001b[38;5;28;01mas\u001b[39;00m e:\n\u001b[0;32m     42\u001b[0m     \u001b[38;5;28mprint\u001b[39m(\u001b[38;5;124mf\u001b[39m\u001b[38;5;124m\"\u001b[39m\u001b[38;5;124mError occured at \u001b[39m\u001b[38;5;132;01m{\u001b[39;00mgitlab_path\u001b[38;5;132;01m}\u001b[39;00m\u001b[38;5;124m: \u001b[39m\u001b[38;5;132;01m{\u001b[39;00me\u001b[38;5;132;01m}\u001b[39;00m\u001b[38;5;124m\"\u001b[39m)\n",
      "Cell \u001b[1;32mIn[16], line 40\u001b[0m, in \u001b[0;36mdownload_gitlab_data\u001b[1;34m(project_id, gitlab_path, save_path)\u001b[0m\n\u001b[0;32m     38\u001b[0m             download_files_in_folder(project_id, file, save_path)\n\u001b[0;32m     39\u001b[0m         \u001b[38;5;28;01melse\u001b[39;00m:\n\u001b[1;32m---> 40\u001b[0m             \u001b[43mdownload_gitlab_data\u001b[49m\u001b[43m(\u001b[49m\u001b[43mproject_id\u001b[49m\u001b[43m,\u001b[49m\u001b[43m \u001b[49m\u001b[38;5;124;43mf\u001b[39;49m\u001b[38;5;124;43m'\u001b[39;49m\u001b[38;5;132;43;01m{\u001b[39;49;00m\u001b[43mfile\u001b[49m\u001b[43m[\u001b[49m\u001b[38;5;124;43m\"\u001b[39;49m\u001b[38;5;124;43mpath\u001b[39;49m\u001b[38;5;124;43m\"\u001b[39;49m\u001b[43m]\u001b[49m\u001b[38;5;132;43;01m}\u001b[39;49;00m\u001b[38;5;124;43m'\u001b[39;49m\u001b[43m,\u001b[49m\u001b[43m \u001b[49m\u001b[43msave_path\u001b[49m\u001b[43m)\u001b[49m\n\u001b[0;32m     41\u001b[0m \u001b[38;5;28;01mexcept\u001b[39;00m \u001b[38;5;167;01mException\u001b[39;00m \u001b[38;5;28;01mas\u001b[39;00m e:\n\u001b[0;32m     42\u001b[0m     \u001b[38;5;28mprint\u001b[39m(\u001b[38;5;124mf\u001b[39m\u001b[38;5;124m\"\u001b[39m\u001b[38;5;124mError occured at \u001b[39m\u001b[38;5;132;01m{\u001b[39;00mgitlab_path\u001b[38;5;132;01m}\u001b[39;00m\u001b[38;5;124m: \u001b[39m\u001b[38;5;132;01m{\u001b[39;00me\u001b[38;5;132;01m}\u001b[39;00m\u001b[38;5;124m\"\u001b[39m)\n",
      "Cell \u001b[1;32mIn[16], line 32\u001b[0m, in \u001b[0;36mdownload_gitlab_data\u001b[1;34m(project_id, gitlab_path, save_path)\u001b[0m\n\u001b[0;32m     26\u001b[0m params \u001b[38;5;241m=\u001b[39m {\n\u001b[0;32m     27\u001b[0m     \u001b[38;5;124m'\u001b[39m\u001b[38;5;124mpath\u001b[39m\u001b[38;5;124m'\u001b[39m: gitlab_path,\n\u001b[0;32m     28\u001b[0m     \u001b[38;5;124m'\u001b[39m\u001b[38;5;124mrecursive\u001b[39m\u001b[38;5;124m'\u001b[39m: \u001b[38;5;28;01mTrue\u001b[39;00m\n\u001b[0;32m     29\u001b[0m }\n\u001b[0;32m     31\u001b[0m \u001b[38;5;28;01mtry\u001b[39;00m:\n\u001b[1;32m---> 32\u001b[0m     response \u001b[38;5;241m=\u001b[39m \u001b[43mrequests\u001b[49m\u001b[38;5;241;43m.\u001b[39;49m\u001b[43mget\u001b[49m\u001b[43m(\u001b[49m\u001b[43mapi_url\u001b[49m\u001b[43m,\u001b[49m\u001b[43m \u001b[49m\u001b[43mparams\u001b[49m\u001b[38;5;241;43m=\u001b[39;49m\u001b[43mparams\u001b[49m\u001b[43m)\u001b[49m\n\u001b[0;32m     33\u001b[0m     response\u001b[38;5;241m.\u001b[39mraise_for_status()\n\u001b[0;32m     34\u001b[0m     files \u001b[38;5;241m=\u001b[39m response\u001b[38;5;241m.\u001b[39mjson()\n",
      "File \u001b[1;32mc:\\Users\\laure\\anaconda3\\envs\\my_chatbot_env\\lib\\site-packages\\requests\\api.py:73\u001b[0m, in \u001b[0;36mget\u001b[1;34m(url, params, **kwargs)\u001b[0m\n\u001b[0;32m     62\u001b[0m \u001b[38;5;28;01mdef\u001b[39;00m\u001b[38;5;250m \u001b[39m\u001b[38;5;21mget\u001b[39m(url, params\u001b[38;5;241m=\u001b[39m\u001b[38;5;28;01mNone\u001b[39;00m, \u001b[38;5;241m*\u001b[39m\u001b[38;5;241m*\u001b[39mkwargs):\n\u001b[0;32m     63\u001b[0m \u001b[38;5;250m    \u001b[39m\u001b[38;5;124mr\u001b[39m\u001b[38;5;124;03m\"\"\"Sends a GET request.\u001b[39;00m\n\u001b[0;32m     64\u001b[0m \n\u001b[0;32m     65\u001b[0m \u001b[38;5;124;03m    :param url: URL for the new :class:`Request` object.\u001b[39;00m\n\u001b[1;32m   (...)\u001b[0m\n\u001b[0;32m     70\u001b[0m \u001b[38;5;124;03m    :rtype: requests.Response\u001b[39;00m\n\u001b[0;32m     71\u001b[0m \u001b[38;5;124;03m    \"\"\"\u001b[39;00m\n\u001b[1;32m---> 73\u001b[0m     \u001b[38;5;28;01mreturn\u001b[39;00m request(\u001b[38;5;124m\"\u001b[39m\u001b[38;5;124mget\u001b[39m\u001b[38;5;124m\"\u001b[39m, url, params\u001b[38;5;241m=\u001b[39mparams, \u001b[38;5;241m*\u001b[39m\u001b[38;5;241m*\u001b[39mkwargs)\n",
      "File \u001b[1;32mc:\\Users\\laure\\anaconda3\\envs\\my_chatbot_env\\lib\\site-packages\\requests\\api.py:59\u001b[0m, in \u001b[0;36mrequest\u001b[1;34m(method, url, **kwargs)\u001b[0m\n\u001b[0;32m     55\u001b[0m \u001b[38;5;66;03m# By using the 'with' statement we are sure the session is closed, thus we\u001b[39;00m\n\u001b[0;32m     56\u001b[0m \u001b[38;5;66;03m# avoid leaving sockets open which can trigger a ResourceWarning in some\u001b[39;00m\n\u001b[0;32m     57\u001b[0m \u001b[38;5;66;03m# cases, and look like a memory leak in others.\u001b[39;00m\n\u001b[0;32m     58\u001b[0m \u001b[38;5;28;01mwith\u001b[39;00m sessions\u001b[38;5;241m.\u001b[39mSession() \u001b[38;5;28;01mas\u001b[39;00m session:\n\u001b[1;32m---> 59\u001b[0m     \u001b[38;5;28;01mreturn\u001b[39;00m session\u001b[38;5;241m.\u001b[39mrequest(method\u001b[38;5;241m=\u001b[39mmethod, url\u001b[38;5;241m=\u001b[39murl, \u001b[38;5;241m*\u001b[39m\u001b[38;5;241m*\u001b[39mkwargs)\n",
      "File \u001b[1;32mc:\\Users\\laure\\anaconda3\\envs\\my_chatbot_env\\lib\\site-packages\\requests\\sessions.py:589\u001b[0m, in \u001b[0;36mSession.request\u001b[1;34m(self, method, url, params, data, headers, cookies, files, auth, timeout, allow_redirects, proxies, hooks, stream, verify, cert, json)\u001b[0m\n\u001b[0;32m    584\u001b[0m send_kwargs \u001b[38;5;241m=\u001b[39m {\n\u001b[0;32m    585\u001b[0m     \u001b[38;5;124m\"\u001b[39m\u001b[38;5;124mtimeout\u001b[39m\u001b[38;5;124m\"\u001b[39m: timeout,\n\u001b[0;32m    586\u001b[0m     \u001b[38;5;124m\"\u001b[39m\u001b[38;5;124mallow_redirects\u001b[39m\u001b[38;5;124m\"\u001b[39m: allow_redirects,\n\u001b[0;32m    587\u001b[0m }\n\u001b[0;32m    588\u001b[0m send_kwargs\u001b[38;5;241m.\u001b[39mupdate(settings)\n\u001b[1;32m--> 589\u001b[0m resp \u001b[38;5;241m=\u001b[39m \u001b[38;5;28mself\u001b[39m\u001b[38;5;241m.\u001b[39msend(prep, \u001b[38;5;241m*\u001b[39m\u001b[38;5;241m*\u001b[39msend_kwargs)\n\u001b[0;32m    591\u001b[0m \u001b[38;5;28;01mreturn\u001b[39;00m resp\n",
      "File \u001b[1;32mc:\\Users\\laure\\anaconda3\\envs\\my_chatbot_env\\lib\\site-packages\\requests\\sessions.py:703\u001b[0m, in \u001b[0;36mSession.send\u001b[1;34m(self, request, **kwargs)\u001b[0m\n\u001b[0;32m    700\u001b[0m start \u001b[38;5;241m=\u001b[39m preferred_clock()\n\u001b[0;32m    702\u001b[0m \u001b[38;5;66;03m# Send the request\u001b[39;00m\n\u001b[1;32m--> 703\u001b[0m r \u001b[38;5;241m=\u001b[39m adapter\u001b[38;5;241m.\u001b[39msend(request, \u001b[38;5;241m*\u001b[39m\u001b[38;5;241m*\u001b[39mkwargs)\n\u001b[0;32m    705\u001b[0m \u001b[38;5;66;03m# Total elapsed time of the request (approximately)\u001b[39;00m\n\u001b[0;32m    706\u001b[0m elapsed \u001b[38;5;241m=\u001b[39m preferred_clock() \u001b[38;5;241m-\u001b[39m start\n",
      "File \u001b[1;32mc:\\Users\\laure\\anaconda3\\envs\\my_chatbot_env\\lib\\site-packages\\requests\\adapters.py:667\u001b[0m, in \u001b[0;36mHTTPAdapter.send\u001b[1;34m(self, request, stream, timeout, verify, cert, proxies)\u001b[0m\n\u001b[0;32m    664\u001b[0m     timeout \u001b[38;5;241m=\u001b[39m TimeoutSauce(connect\u001b[38;5;241m=\u001b[39mtimeout, read\u001b[38;5;241m=\u001b[39mtimeout)\n\u001b[0;32m    666\u001b[0m \u001b[38;5;28;01mtry\u001b[39;00m:\n\u001b[1;32m--> 667\u001b[0m     resp \u001b[38;5;241m=\u001b[39m \u001b[43mconn\u001b[49m\u001b[38;5;241;43m.\u001b[39;49m\u001b[43murlopen\u001b[49m\u001b[43m(\u001b[49m\n\u001b[0;32m    668\u001b[0m \u001b[43m        \u001b[49m\u001b[43mmethod\u001b[49m\u001b[38;5;241;43m=\u001b[39;49m\u001b[43mrequest\u001b[49m\u001b[38;5;241;43m.\u001b[39;49m\u001b[43mmethod\u001b[49m\u001b[43m,\u001b[49m\n\u001b[0;32m    669\u001b[0m \u001b[43m        \u001b[49m\u001b[43murl\u001b[49m\u001b[38;5;241;43m=\u001b[39;49m\u001b[43murl\u001b[49m\u001b[43m,\u001b[49m\n\u001b[0;32m    670\u001b[0m \u001b[43m        \u001b[49m\u001b[43mbody\u001b[49m\u001b[38;5;241;43m=\u001b[39;49m\u001b[43mrequest\u001b[49m\u001b[38;5;241;43m.\u001b[39;49m\u001b[43mbody\u001b[49m\u001b[43m,\u001b[49m\n\u001b[0;32m    671\u001b[0m \u001b[43m        \u001b[49m\u001b[43mheaders\u001b[49m\u001b[38;5;241;43m=\u001b[39;49m\u001b[43mrequest\u001b[49m\u001b[38;5;241;43m.\u001b[39;49m\u001b[43mheaders\u001b[49m\u001b[43m,\u001b[49m\n\u001b[0;32m    672\u001b[0m \u001b[43m        \u001b[49m\u001b[43mredirect\u001b[49m\u001b[38;5;241;43m=\u001b[39;49m\u001b[38;5;28;43;01mFalse\u001b[39;49;00m\u001b[43m,\u001b[49m\n\u001b[0;32m    673\u001b[0m \u001b[43m        \u001b[49m\u001b[43massert_same_host\u001b[49m\u001b[38;5;241;43m=\u001b[39;49m\u001b[38;5;28;43;01mFalse\u001b[39;49;00m\u001b[43m,\u001b[49m\n\u001b[0;32m    674\u001b[0m \u001b[43m        \u001b[49m\u001b[43mpreload_content\u001b[49m\u001b[38;5;241;43m=\u001b[39;49m\u001b[38;5;28;43;01mFalse\u001b[39;49;00m\u001b[43m,\u001b[49m\n\u001b[0;32m    675\u001b[0m \u001b[43m        \u001b[49m\u001b[43mdecode_content\u001b[49m\u001b[38;5;241;43m=\u001b[39;49m\u001b[38;5;28;43;01mFalse\u001b[39;49;00m\u001b[43m,\u001b[49m\n\u001b[0;32m    676\u001b[0m \u001b[43m        \u001b[49m\u001b[43mretries\u001b[49m\u001b[38;5;241;43m=\u001b[39;49m\u001b[38;5;28;43mself\u001b[39;49m\u001b[38;5;241;43m.\u001b[39;49m\u001b[43mmax_retries\u001b[49m\u001b[43m,\u001b[49m\n\u001b[0;32m    677\u001b[0m \u001b[43m        \u001b[49m\u001b[43mtimeout\u001b[49m\u001b[38;5;241;43m=\u001b[39;49m\u001b[43mtimeout\u001b[49m\u001b[43m,\u001b[49m\n\u001b[0;32m    678\u001b[0m \u001b[43m        \u001b[49m\u001b[43mchunked\u001b[49m\u001b[38;5;241;43m=\u001b[39;49m\u001b[43mchunked\u001b[49m\u001b[43m,\u001b[49m\n\u001b[0;32m    679\u001b[0m \u001b[43m    \u001b[49m\u001b[43m)\u001b[49m\n\u001b[0;32m    681\u001b[0m \u001b[38;5;28;01mexcept\u001b[39;00m (ProtocolError, \u001b[38;5;167;01mOSError\u001b[39;00m) \u001b[38;5;28;01mas\u001b[39;00m err:\n\u001b[0;32m    682\u001b[0m     \u001b[38;5;28;01mraise\u001b[39;00m \u001b[38;5;167;01mConnectionError\u001b[39;00m(err, request\u001b[38;5;241m=\u001b[39mrequest)\n",
      "File \u001b[1;32mc:\\Users\\laure\\anaconda3\\envs\\my_chatbot_env\\lib\\site-packages\\urllib3\\connectionpool.py:787\u001b[0m, in \u001b[0;36mHTTPConnectionPool.urlopen\u001b[1;34m(self, method, url, body, headers, retries, redirect, assert_same_host, timeout, pool_timeout, release_conn, chunked, body_pos, preload_content, decode_content, **response_kw)\u001b[0m\n\u001b[0;32m    784\u001b[0m response_conn \u001b[38;5;241m=\u001b[39m conn \u001b[38;5;28;01mif\u001b[39;00m \u001b[38;5;129;01mnot\u001b[39;00m release_conn \u001b[38;5;28;01melse\u001b[39;00m \u001b[38;5;28;01mNone\u001b[39;00m\n\u001b[0;32m    786\u001b[0m \u001b[38;5;66;03m# Make the request on the HTTPConnection object\u001b[39;00m\n\u001b[1;32m--> 787\u001b[0m response \u001b[38;5;241m=\u001b[39m \u001b[38;5;28mself\u001b[39m\u001b[38;5;241m.\u001b[39m_make_request(\n\u001b[0;32m    788\u001b[0m     conn,\n\u001b[0;32m    789\u001b[0m     method,\n\u001b[0;32m    790\u001b[0m     url,\n\u001b[0;32m    791\u001b[0m     timeout\u001b[38;5;241m=\u001b[39mtimeout_obj,\n\u001b[0;32m    792\u001b[0m     body\u001b[38;5;241m=\u001b[39mbody,\n\u001b[0;32m    793\u001b[0m     headers\u001b[38;5;241m=\u001b[39mheaders,\n\u001b[0;32m    794\u001b[0m     chunked\u001b[38;5;241m=\u001b[39mchunked,\n\u001b[0;32m    795\u001b[0m     retries\u001b[38;5;241m=\u001b[39mretries,\n\u001b[0;32m    796\u001b[0m     response_conn\u001b[38;5;241m=\u001b[39mresponse_conn,\n\u001b[0;32m    797\u001b[0m     preload_content\u001b[38;5;241m=\u001b[39mpreload_content,\n\u001b[0;32m    798\u001b[0m     decode_content\u001b[38;5;241m=\u001b[39mdecode_content,\n\u001b[0;32m    799\u001b[0m     \u001b[38;5;241m*\u001b[39m\u001b[38;5;241m*\u001b[39mresponse_kw,\n\u001b[0;32m    800\u001b[0m )\n\u001b[0;32m    802\u001b[0m \u001b[38;5;66;03m# Everything went great!\u001b[39;00m\n\u001b[0;32m    803\u001b[0m clean_exit \u001b[38;5;241m=\u001b[39m \u001b[38;5;28;01mTrue\u001b[39;00m\n",
      "File \u001b[1;32mc:\\Users\\laure\\anaconda3\\envs\\my_chatbot_env\\lib\\site-packages\\urllib3\\connectionpool.py:534\u001b[0m, in \u001b[0;36mHTTPConnectionPool._make_request\u001b[1;34m(self, conn, method, url, body, headers, retries, timeout, chunked, response_conn, preload_content, decode_content, enforce_content_length)\u001b[0m\n\u001b[0;32m    532\u001b[0m \u001b[38;5;66;03m# Receive the response from the server\u001b[39;00m\n\u001b[0;32m    533\u001b[0m \u001b[38;5;28;01mtry\u001b[39;00m:\n\u001b[1;32m--> 534\u001b[0m     response \u001b[38;5;241m=\u001b[39m \u001b[43mconn\u001b[49m\u001b[38;5;241;43m.\u001b[39;49m\u001b[43mgetresponse\u001b[49m\u001b[43m(\u001b[49m\u001b[43m)\u001b[49m\n\u001b[0;32m    535\u001b[0m \u001b[38;5;28;01mexcept\u001b[39;00m (BaseSSLError, \u001b[38;5;167;01mOSError\u001b[39;00m) \u001b[38;5;28;01mas\u001b[39;00m e:\n\u001b[0;32m    536\u001b[0m     \u001b[38;5;28mself\u001b[39m\u001b[38;5;241m.\u001b[39m_raise_timeout(err\u001b[38;5;241m=\u001b[39me, url\u001b[38;5;241m=\u001b[39murl, timeout_value\u001b[38;5;241m=\u001b[39mread_timeout)\n",
      "File \u001b[1;32mc:\\Users\\laure\\anaconda3\\envs\\my_chatbot_env\\lib\\site-packages\\urllib3\\connection.py:516\u001b[0m, in \u001b[0;36mHTTPConnection.getresponse\u001b[1;34m(self)\u001b[0m\n\u001b[0;32m    513\u001b[0m _shutdown \u001b[38;5;241m=\u001b[39m \u001b[38;5;28mgetattr\u001b[39m(\u001b[38;5;28mself\u001b[39m\u001b[38;5;241m.\u001b[39msock, \u001b[38;5;124m\"\u001b[39m\u001b[38;5;124mshutdown\u001b[39m\u001b[38;5;124m\"\u001b[39m, \u001b[38;5;28;01mNone\u001b[39;00m)\n\u001b[0;32m    515\u001b[0m \u001b[38;5;66;03m# Get the response from http.client.HTTPConnection\u001b[39;00m\n\u001b[1;32m--> 516\u001b[0m httplib_response \u001b[38;5;241m=\u001b[39m \u001b[38;5;28;43msuper\u001b[39;49m\u001b[43m(\u001b[49m\u001b[43m)\u001b[49m\u001b[38;5;241;43m.\u001b[39;49m\u001b[43mgetresponse\u001b[49m\u001b[43m(\u001b[49m\u001b[43m)\u001b[49m\n\u001b[0;32m    518\u001b[0m \u001b[38;5;28;01mtry\u001b[39;00m:\n\u001b[0;32m    519\u001b[0m     assert_header_parsing(httplib_response\u001b[38;5;241m.\u001b[39mmsg)\n",
      "File \u001b[1;32mc:\\Users\\laure\\anaconda3\\envs\\my_chatbot_env\\lib\\http\\client.py:1377\u001b[0m, in \u001b[0;36mHTTPConnection.getresponse\u001b[1;34m(self)\u001b[0m\n\u001b[0;32m   1375\u001b[0m \u001b[38;5;28;01mtry\u001b[39;00m:\n\u001b[0;32m   1376\u001b[0m     \u001b[38;5;28;01mtry\u001b[39;00m:\n\u001b[1;32m-> 1377\u001b[0m         \u001b[43mresponse\u001b[49m\u001b[38;5;241;43m.\u001b[39;49m\u001b[43mbegin\u001b[49m\u001b[43m(\u001b[49m\u001b[43m)\u001b[49m\n\u001b[0;32m   1378\u001b[0m     \u001b[38;5;28;01mexcept\u001b[39;00m \u001b[38;5;167;01mConnectionError\u001b[39;00m:\n\u001b[0;32m   1379\u001b[0m         \u001b[38;5;28mself\u001b[39m\u001b[38;5;241m.\u001b[39mclose()\n",
      "File \u001b[1;32mc:\\Users\\laure\\anaconda3\\envs\\my_chatbot_env\\lib\\http\\client.py:320\u001b[0m, in \u001b[0;36mHTTPResponse.begin\u001b[1;34m(self)\u001b[0m\n\u001b[0;32m    318\u001b[0m \u001b[38;5;66;03m# read until we get a non-100 response\u001b[39;00m\n\u001b[0;32m    319\u001b[0m \u001b[38;5;28;01mwhile\u001b[39;00m \u001b[38;5;28;01mTrue\u001b[39;00m:\n\u001b[1;32m--> 320\u001b[0m     version, status, reason \u001b[38;5;241m=\u001b[39m \u001b[38;5;28;43mself\u001b[39;49m\u001b[38;5;241;43m.\u001b[39;49m\u001b[43m_read_status\u001b[49m\u001b[43m(\u001b[49m\u001b[43m)\u001b[49m\n\u001b[0;32m    321\u001b[0m     \u001b[38;5;28;01mif\u001b[39;00m status \u001b[38;5;241m!=\u001b[39m CONTINUE:\n\u001b[0;32m    322\u001b[0m         \u001b[38;5;28;01mbreak\u001b[39;00m\n",
      "File \u001b[1;32mc:\\Users\\laure\\anaconda3\\envs\\my_chatbot_env\\lib\\http\\client.py:281\u001b[0m, in \u001b[0;36mHTTPResponse._read_status\u001b[1;34m(self)\u001b[0m\n\u001b[0;32m    280\u001b[0m \u001b[38;5;28;01mdef\u001b[39;00m\u001b[38;5;250m \u001b[39m\u001b[38;5;21m_read_status\u001b[39m(\u001b[38;5;28mself\u001b[39m):\n\u001b[1;32m--> 281\u001b[0m     line \u001b[38;5;241m=\u001b[39m \u001b[38;5;28mstr\u001b[39m(\u001b[38;5;28;43mself\u001b[39;49m\u001b[38;5;241;43m.\u001b[39;49m\u001b[43mfp\u001b[49m\u001b[38;5;241;43m.\u001b[39;49m\u001b[43mreadline\u001b[49m\u001b[43m(\u001b[49m\u001b[43m_MAXLINE\u001b[49m\u001b[43m \u001b[49m\u001b[38;5;241;43m+\u001b[39;49m\u001b[43m \u001b[49m\u001b[38;5;241;43m1\u001b[39;49m\u001b[43m)\u001b[49m, \u001b[38;5;124m\"\u001b[39m\u001b[38;5;124miso-8859-1\u001b[39m\u001b[38;5;124m\"\u001b[39m)\n\u001b[0;32m    282\u001b[0m     \u001b[38;5;28;01mif\u001b[39;00m \u001b[38;5;28mlen\u001b[39m(line) \u001b[38;5;241m>\u001b[39m _MAXLINE:\n\u001b[0;32m    283\u001b[0m         \u001b[38;5;28;01mraise\u001b[39;00m LineTooLong(\u001b[38;5;124m\"\u001b[39m\u001b[38;5;124mstatus line\u001b[39m\u001b[38;5;124m\"\u001b[39m)\n",
      "File \u001b[1;32mc:\\Users\\laure\\anaconda3\\envs\\my_chatbot_env\\lib\\socket.py:716\u001b[0m, in \u001b[0;36mSocketIO.readinto\u001b[1;34m(self, b)\u001b[0m\n\u001b[0;32m    714\u001b[0m \u001b[38;5;28;01mwhile\u001b[39;00m \u001b[38;5;28;01mTrue\u001b[39;00m:\n\u001b[0;32m    715\u001b[0m     \u001b[38;5;28;01mtry\u001b[39;00m:\n\u001b[1;32m--> 716\u001b[0m         \u001b[38;5;28;01mreturn\u001b[39;00m \u001b[38;5;28;43mself\u001b[39;49m\u001b[38;5;241;43m.\u001b[39;49m\u001b[43m_sock\u001b[49m\u001b[38;5;241;43m.\u001b[39;49m\u001b[43mrecv_into\u001b[49m\u001b[43m(\u001b[49m\u001b[43mb\u001b[49m\u001b[43m)\u001b[49m\n\u001b[0;32m    717\u001b[0m     \u001b[38;5;28;01mexcept\u001b[39;00m timeout:\n\u001b[0;32m    718\u001b[0m         \u001b[38;5;28mself\u001b[39m\u001b[38;5;241m.\u001b[39m_timeout_occurred \u001b[38;5;241m=\u001b[39m \u001b[38;5;28;01mTrue\u001b[39;00m\n",
      "File \u001b[1;32mc:\\Users\\laure\\anaconda3\\envs\\my_chatbot_env\\lib\\ssl.py:1275\u001b[0m, in \u001b[0;36mSSLSocket.recv_into\u001b[1;34m(self, buffer, nbytes, flags)\u001b[0m\n\u001b[0;32m   1271\u001b[0m     \u001b[38;5;28;01mif\u001b[39;00m flags \u001b[38;5;241m!=\u001b[39m \u001b[38;5;241m0\u001b[39m:\n\u001b[0;32m   1272\u001b[0m         \u001b[38;5;28;01mraise\u001b[39;00m \u001b[38;5;167;01mValueError\u001b[39;00m(\n\u001b[0;32m   1273\u001b[0m           \u001b[38;5;124m\"\u001b[39m\u001b[38;5;124mnon-zero flags not allowed in calls to recv_into() on \u001b[39m\u001b[38;5;132;01m%s\u001b[39;00m\u001b[38;5;124m\"\u001b[39m \u001b[38;5;241m%\u001b[39m\n\u001b[0;32m   1274\u001b[0m           \u001b[38;5;28mself\u001b[39m\u001b[38;5;241m.\u001b[39m\u001b[38;5;18m__class__\u001b[39m)\n\u001b[1;32m-> 1275\u001b[0m     \u001b[38;5;28;01mreturn\u001b[39;00m \u001b[38;5;28;43mself\u001b[39;49m\u001b[38;5;241;43m.\u001b[39;49m\u001b[43mread\u001b[49m\u001b[43m(\u001b[49m\u001b[43mnbytes\u001b[49m\u001b[43m,\u001b[49m\u001b[43m \u001b[49m\u001b[43mbuffer\u001b[49m\u001b[43m)\u001b[49m\n\u001b[0;32m   1276\u001b[0m \u001b[38;5;28;01melse\u001b[39;00m:\n\u001b[0;32m   1277\u001b[0m     \u001b[38;5;28;01mreturn\u001b[39;00m \u001b[38;5;28msuper\u001b[39m()\u001b[38;5;241m.\u001b[39mrecv_into(buffer, nbytes, flags)\n",
      "File \u001b[1;32mc:\\Users\\laure\\anaconda3\\envs\\my_chatbot_env\\lib\\ssl.py:1133\u001b[0m, in \u001b[0;36mSSLSocket.read\u001b[1;34m(self, len, buffer)\u001b[0m\n\u001b[0;32m   1131\u001b[0m \u001b[38;5;28;01mtry\u001b[39;00m:\n\u001b[0;32m   1132\u001b[0m     \u001b[38;5;28;01mif\u001b[39;00m buffer \u001b[38;5;129;01mis\u001b[39;00m \u001b[38;5;129;01mnot\u001b[39;00m \u001b[38;5;28;01mNone\u001b[39;00m:\n\u001b[1;32m-> 1133\u001b[0m         \u001b[38;5;28;01mreturn\u001b[39;00m \u001b[38;5;28;43mself\u001b[39;49m\u001b[38;5;241;43m.\u001b[39;49m\u001b[43m_sslobj\u001b[49m\u001b[38;5;241;43m.\u001b[39;49m\u001b[43mread\u001b[49m\u001b[43m(\u001b[49m\u001b[38;5;28;43mlen\u001b[39;49m\u001b[43m,\u001b[49m\u001b[43m \u001b[49m\u001b[43mbuffer\u001b[49m\u001b[43m)\u001b[49m\n\u001b[0;32m   1134\u001b[0m     \u001b[38;5;28;01melse\u001b[39;00m:\n\u001b[0;32m   1135\u001b[0m         \u001b[38;5;28;01mreturn\u001b[39;00m \u001b[38;5;28mself\u001b[39m\u001b[38;5;241m.\u001b[39m_sslobj\u001b[38;5;241m.\u001b[39mread(\u001b[38;5;28mlen\u001b[39m)\n",
      "\u001b[1;31mKeyboardInterrupt\u001b[0m: "
     ]
    }
   ],
   "source": [
    "from urllib.parse import quote\n",
    "\n",
    "def download_files_in_folder(project_id, file, save_path):\n",
    "    \"\"\"\n",
    "    Download current markdown file from gitlab project into local folder.\n",
    "\n",
    "    args:\n",
    "    project\n",
    "    \"\"\"\n",
    "    file_path_encoded = quote(file[\"path\"], safe='')\n",
    "    file_url = f'https://gitlab.com/api/v4/projects/{project_id}/repository/files/{file_path_encoded}/raw'\n",
    "    file_params = {'ref': 'main'}\n",
    "    file_response = requests.get(file_url, params=file_params)\n",
    "    file_response.raise_for_status()\n",
    "\n",
    "    print(file_url)\n",
    "    local_file_path = os.path.join(save_path, file['path'])\n",
    "    os.makedirs(os.path.dirname(local_file_path), exist_ok=True)\n",
    "\n",
    "    with open(local_file_path, 'wb') as f:\n",
    "        f.write(file_response.content)\n",
    "    print(f'Downloaded: {file[\"path\"]} to {local_file_path}')\n",
    "\n",
    "def download_gitlab_data(project_id, gitlab_path, save_path):\n",
    "    api_url = f'https://gitlab.com/api/v4/projects/{project_id}/repository/tree'\n",
    "    params = {\n",
    "        'path': gitlab_path,\n",
    "        'recursive': True\n",
    "    }\n",
    "    \n",
    "    try:\n",
    "        response = requests.get(api_url, params=params)\n",
    "        response.raise_for_status()\n",
    "        files = response.json()\n",
    "\n",
    "        for file in files:\n",
    "            if file['type'] == 'blob' and file['name'].endswith('.md'):\n",
    "                download_files_in_folder(project_id, file, save_path)\n",
    "            else:\n",
    "                download_gitlab_data(project_id, f'{file[\"path\"]}', save_path)\n",
    "    except Exception as e:\n",
    "        print(f\"Error occured at {gitlab_path}: {e}\")\n",
    "\n",
    "PROJECT_ID = \"gitlab-com%2Fcontent-sites%2Fhandbook\"\n",
    "FOLDER_PATH = \"content\"\n",
    "SAVE_PATH = \"../data/gitlab_handbook\"\n",
    "\n",
    "download_gitlab_data(PROJECT_ID, FOLDER_PATH, SAVE_PATH)"
   ]
  },
  {
   "cell_type": "markdown",
   "metadata": {},
   "source": [
    "Lets focus on 1 MD file first to test. "
   ]
  },
  {
   "cell_type": "code",
   "execution_count": null,
   "metadata": {},
   "outputs": [
    {
     "name": "stdout",
     "output_type": "stream",
     "text": [
      "72\n",
      "209\n"
     ]
    }
   ],
   "source": [
    "FILE_PATH = \"../data/handbook-main-content/content/handbook/communication/_index.md\"\n",
    "EMBEDDING_MODEL = \"text-embedding-3-large\"\n",
    "\n",
    "def split_markdown_text(file_path: str, embedding_model: str, min_tokens: int = 200, max_tokens: int = 1000, overlap: int = 30):\n",
    "    md_regex = r\"(^#+\\s*.*)\" #regex which captures all levels of headers in markdown.\n",
    "    tokenizer = tiktoken.encoding_for_model(embedding_model)\n",
    "    text = \"\"\n",
    "    #read text\n",
    "    try:\n",
    "        file = open(file_path, 'r', encoding=\"utf-8\")\n",
    "        text = file.read()\n",
    "    except Exception as e:\n",
    "        print(f\"error while reading file: {e}\")\n",
    "\n",
    "    #split text by headers\n",
    "    sections = re.split(md_regex, text, flags=re.MULTILINE)\n",
    "    chunks = []\n",
    "    temp_chunk = \"\"\n",
    "    \n",
    "\n",
    "    for i in range(1, len(sections), 2): # loop through headers and text in sections\n",
    "        \n",
    "        header = sections[i].strip()\n",
    "        content = sections[i+1].strip() if i + 1 <= len(sections) else \"\"\n",
    "        chunk = header + '\\n' + content\n",
    "        token_count = len(tokenizer.encode(chunk))\n",
    "\n",
    "        # add chunk to chunk list or to temporary chunk to combine with other chunks\n",
    "        if token_count < min_tokens:\n",
    "            temp_chunk += chunk + \"\\n\"          \n",
    "        else:\n",
    "            if temp_chunk:\n",
    "                chunks.append(temp_chunk)\n",
    "                temp_chunk = \"\"\n",
    "            chunks.append(chunk)\n",
    "\n",
    "    # add remaining temp chunk if it exists\n",
    "    if temp_chunk:\n",
    "        chunks.append(temp_chunk)\n",
    "\n",
    "    splitter = RecursiveCharacterTextSplitter(chunk_size = max_tokens, chunk_overlap = overlap)\n",
    "    split_chunks = []\n",
    "    for chunk in chunks:\n",
    "        split_chunks.extend(splitter.split_text(chunk))\n",
    "    \n",
    "    return chunks\n",
    "\n",
    "chunks = split_markdown_text(FILE_PATH, EMBEDDING_MODEL)\n",
    "tokenizer = tiktoken.encoding_for_model(EMBEDDING_MODEL)\n",
    "print(len(chunks))\n",
    "print(len(tokenizer.encode(chunks[2])))\n"
   ]
  },
  {
   "cell_type": "markdown",
   "metadata": {},
   "source": [
    "split all markdown files in the handbook folder up into chunks.\n",
    "Chunks are split up by headings and large sections of text will be split up further into chunks of 1000 tokens\n"
   ]
  },
  {
   "cell_type": "code",
   "execution_count": 26,
   "metadata": {},
   "outputs": [
    {
     "name": "stdout",
     "output_type": "stream",
     "text": [
      "67102\n"
     ]
    }
   ],
   "source": [
    "\n",
    "\n",
    "def split_markdown_text(text: str, embedding_model: str, min_tokens: int = 200, max_tokens: int = 1000, overlap: int = 30):\n",
    "    md_regex = r\"(^#+\\s*.*)\" #regex which captures all levels of headers in markdown.\n",
    "    tokenizer = tiktoken.encoding_for_model(embedding_model)\n",
    "\n",
    "    #split text by headers\n",
    "    sections = re.split(md_regex, text, flags=re.MULTILINE)\n",
    "    chunks = []\n",
    "    temp_chunk = \"\"\n",
    "    \n",
    "    #capture first text which often does not start with a header\n",
    "    \n",
    "    if len(tokenizer.encode(sections[0])) < min_tokens:\n",
    "        temp_chunk = sections[0]\n",
    "    else:\n",
    "        chunks.append(sections[0])\n",
    "    \n",
    "\n",
    "    for i in range(1, len(sections), 2): # loop through headers and text in sections\n",
    "        header = sections[i].strip()\n",
    "        content = sections[i+1].strip() if i + 1 <= len(sections) else \"\"\n",
    "        chunk = header + '\\n' + content\n",
    "        token_count = len(tokenizer.encode(chunk))\n",
    "\n",
    "        # add chunk to chunk list or to temporary chunk to combine with other chunks\n",
    "        if token_count < min_tokens:\n",
    "            temp_chunk += chunk + \"\\n\"          \n",
    "        else:\n",
    "            if temp_chunk:\n",
    "                chunks.append(temp_chunk)\n",
    "                temp_chunk = \"\"\n",
    "            chunks.append(chunk)\n",
    "\n",
    "    # add remaining temp chunk if it exists\n",
    "    if temp_chunk:\n",
    "        chunks.append(temp_chunk)\n",
    "\n",
    "    splitter = RecursiveCharacterTextSplitter(chunk_size = max_tokens, chunk_overlap = overlap)\n",
    "    split_chunks = []\n",
    "    for chunk in chunks:\n",
    "        split_chunks.extend(splitter.split_text(chunk))\n",
    "    \n",
    "    return split_chunks\n",
    "\n",
    "def extract_text_from_data(folder_path):\n",
    "    file_chunks = []\n",
    "    id = 0\n",
    "    HANDBOOK_ROOT_URL = \"https://gitlab.com/gitlab-com/content-sites/handbook/-/tree/main/content\"\n",
    "\n",
    "    # walk through all folders and subfolders\n",
    "    for root, dirs, files in os.walk(folder_path):\n",
    "        for file in files:\n",
    "            if file.endswith('.md'):                  #only extract text from markdown files\n",
    "                file_path = os.path.join(root, file)\n",
    "                file_url = file_path.replace(\"../data/handbook-main-content\\\\content\", HANDBOOK_ROOT_URL)\n",
    "                file_url = file_url.replace('\\\\', '/')\n",
    "               \n",
    "                with open(file_path, 'r', encoding=\"utf-8\") as f:\n",
    "                    content = f.read()\n",
    "                    chunks = split_markdown_text(content, EMBEDDING_MODEL, min_tokens=200)\n",
    "                    for chunk in chunks:\n",
    "                        file_chunks.append((id, file_url, chunk))\n",
    "                        id += 1\n",
    "                    \n",
    "    return file_chunks\n",
    "\n",
    "DATA_PATH = \"../data/handbook-main-content\"\n",
    "EMBEDDING_MODEL = \"text-embedding-3-large\"\n",
    "OPENAI_API_KEY = os.environ.get(\"OPENAI_API_KEY\")\n",
    "\n",
    "\n",
    "\n",
    "\n",
    "file_chunks = extract_text_from_data(DATA_PATH)\n",
    "# def create_chunks_df(file_chunks: List[(str, List[str])]):\n",
    "#     id = 0\n",
    "print(len(file_chunks))\n"
   ]
  },
  {
   "cell_type": "code",
   "execution_count": null,
   "metadata": {},
   "outputs": [],
   "source": []
  },
  {
   "cell_type": "markdown",
   "metadata": {},
   "source": [
    "count total tokens and estimate embedding cost"
   ]
  },
  {
   "cell_type": "code",
   "execution_count": 27,
   "metadata": {},
   "outputs": [
    {
     "name": "stdout",
     "output_type": "stream",
     "text": [
      "total token count = 9518462\n",
      "API costs at ~0.1 dollar per million tokens equals 0.9518462 dollar\n"
     ]
    }
   ],
   "source": [
    "tokenizer = tiktoken.encoding_for_model(EMBEDDING_MODEL)\n",
    "total_count = 0\n",
    "for id, file, chunk in file_chunks:\n",
    "    token_count = len(tokenizer.encode(chunk))\n",
    "    total_count += token_count\n",
    "print(f\"total token count = {total_count}\")\n",
    "print(f\"API costs at ~0.1 dollar per million tokens equals {total_count/1000000 * 0.1} dollar\")\n",
    "    "
   ]
  },
  {
   "cell_type": "markdown",
   "metadata": {},
   "source": [
    "Remove small chunks"
   ]
  },
  {
   "cell_type": "code",
   "execution_count": 28,
   "metadata": {},
   "outputs": [
    {
     "name": "stdout",
     "output_type": "stream",
     "text": [
      "14056\n"
     ]
    }
   ],
   "source": [
    "tokenizer = tiktoken.encoding_for_model(EMBEDDING_MODEL)\n",
    "total_count = 0\n",
    "trimmed_file_chunks = []\n",
    "for id, file, chunk in file_chunks:\n",
    "    \n",
    "    count = len(tokenizer.encode(chunk))\n",
    "    if count > 200:\n",
    "        trimmed_file_chunks.append((id, file, chunk))\n",
    "\n",
    "print(len(trimmed_file_chunks))"
   ]
  },
  {
   "cell_type": "code",
   "execution_count": 69,
   "metadata": {},
   "outputs": [],
   "source": [
    "\n",
    "client = OpenAI()\n",
    "\n",
    "#FIX SHOULD RETURN A LIST OF FLOATS INSTEAD OF STRING\n",
    "def get_embeddings(chunks, model=EMBEDDING_MODEL):\n",
    "    try:\n",
    "        \n",
    "        response = client.embeddings.create(input = chunks, model=model)\n",
    "        print(\"batch done\")\n",
    "        return [item.embedding for item in response.data]\n",
    "    except Exception as e:\n",
    "        print(f\"Embedding failed with error: {e}\")\n",
    "    return [None] * len(chunks)  \n"
   ]
  },
  {
   "cell_type": "code",
   "execution_count": 30,
   "metadata": {},
   "outputs": [
    {
     "data": {
      "text/plain": [
       "'https://gitlab.com/gitlab-com/content-sites/handbook/-/tree/main/content/handbook/_index.md'"
      ]
     },
     "execution_count": 30,
     "metadata": {},
     "output_type": "execute_result"
    }
   ],
   "source": [
    "df = pd.DataFrame(data=trimmed_file_chunks, columns=['chunk_id','source_url', 'chunk'])\n",
    "df.iloc[0]['source_url']"
   ]
  },
  {
   "cell_type": "code",
   "execution_count": 32,
   "metadata": {},
   "outputs": [
    {
     "data": {
      "text/plain": [
       "pyarrow.Table\n",
       "chunk_id: string not null\n",
       "source_url: string not null\n",
       "chunk: string not null\n",
       "vector: fixed_size_list<item: float>[3072]\n",
       "  child 0, item: float\n",
       "----\n",
       "chunk_id: []\n",
       "source_url: []\n",
       "chunk: []\n",
       "vector: []"
      ]
     },
     "execution_count": 32,
     "metadata": {},
     "output_type": "execute_result"
    }
   ],
   "source": [
    "\n",
    "\n",
    "func = get_registry().get(\"openai\").create(name=\"text-embedding-3-large\")\n",
    "\n",
    "class HandbookChunk2(LanceModel):\n",
    "    chunk_id: str\n",
    "    source_url: str\n",
    "    chunk: str = func.SourceField()\n",
    "    vector: Vector(func.ndims()) = func.VectorField()\n",
    "\n",
    "    \n",
    "db = lancedb.connect(\"../data/lancedb\")\n",
    "\n",
    "table = db.create_table(\"embedded_handbook_with_urls\", schema = HandbookChunk2)\n",
    "table.head()\n"
   ]
  },
  {
   "cell_type": "code",
   "execution_count": 33,
   "metadata": {},
   "outputs": [],
   "source": [
    "batch_size = 500\n",
    "\n",
    "for i in range(0, len(df), batch_size):\n",
    "    table.add(df.iloc[i:i + batch_size])"
   ]
  },
  {
   "cell_type": "markdown",
   "metadata": {},
   "source": [
    "<h3>creating history table\n"
   ]
  },
  {
   "cell_type": "code",
   "execution_count": 141,
   "metadata": {},
   "outputs": [
    {
     "data": {
      "text/plain": [
       "pyarrow.Table\n",
       "session_id: string not null\n",
       "share_token: string not null\n",
       "history: string not null\n",
       "----\n",
       "session_id: []\n",
       "share_token: []\n",
       "history: []"
      ]
     },
     "execution_count": 141,
     "metadata": {},
     "output_type": "execute_result"
    }
   ],
   "source": [
    "\n",
    "class ChatHistory(LanceModel):\n",
    "    session_id: str\n",
    "    share_token: str\n",
    "    history: str\n",
    "\n",
    "db = lancedb.connect(\"../data/lancedb\")\n",
    "db.drop_table('history_table')\n",
    "table = db.create_table(\"history_table\", schema = ChatHistory)\n",
    "table.head()\n"
   ]
  },
  {
   "cell_type": "code",
   "execution_count": 138,
   "metadata": {},
   "outputs": [],
   "source": [
    "import uuid\n",
    "import json\n",
    "\n",
    "history = []\n",
    "history.append({'role': \"user\", \"content\": 'question'})\n",
    "session_id = str(uuid.uuid4())\n",
    "share_token = str(uuid.uuid4())\n",
    "data = [ChatHistory(session_id = session_id, share_token = share_token, history= json.dumps(history))]\n",
    "table.add(data)"
   ]
  },
  {
   "cell_type": "markdown",
   "metadata": {},
   "source": [
    "check history table after testing chatbot"
   ]
  },
  {
   "cell_type": "code",
   "execution_count": 140,
   "metadata": {},
   "outputs": [
    {
     "name": "stdout",
     "output_type": "stream",
     "text": [
      "pyarrow.Table\n",
      "session_id: string not null\n",
      "share_token: string not null\n",
      "history: string not null\n",
      "----\n",
      "session_id: [[\"e717d573-6551-4519-b0c2-57c1ffa884ad\"],[\"cd7594a2-0f58-40a2-904f-68ea8c1c0940\"],[\"088052f2-d864-49a9-86a0-c01b5a92a951\"],[\"7baa2b0c-5353-402d-ac67-539a79325bb7\"]]\n",
      "share_token: [[\"test\"],[\"6a99e047-1341-4bf1-b37a-c26d68a0a7fd\"],[\"test\"],[\"105a0d85-5b93-4a71-aedc-ede0442a97d8\"]]\n",
      "history: [[\"test\"],[\"[{\"role\": \"user\", \"content\": \"question\"}]\"],[\"test\"],[\"[{\"role\": \"user\", \"content\": \"question\"}]\"]]\n"
     ]
    }
   ],
   "source": [
    "first_row = table.head(n=5)\n",
    "print(table.head())"
   ]
  },
  {
   "cell_type": "code",
   "execution_count": 106,
   "metadata": {},
   "outputs": [
    {
     "name": "stdout",
     "output_type": "stream",
     "text": [
      "[{\"role\": \"user\", \"content\": \"question\"}, {\"role\": \"assistant\", \"content\": \"answer\"}, {\"role\": \"assistant\", \"content\": \"answer\"}]\n",
      "[{'role': 'user', 'content': 'question'}, {'role': 'assistant', 'content': 'answer'}, {'role': 'assistant', 'content': 'answer'}, {'role': 'assistant', 'content': 'answer'}]\n"
     ]
    }
   ],
   "source": [
    "results = table.search().where(f\"session_id = '{session_id}'\").limit(1).to_pydantic(ChatHistory)\n",
    "\n",
    "if results:\n",
    "    print(results[0].history)\n",
    "history = results[0].history\n",
    "history_list = json.loads(history)\n",
    "history_list.append({'role': \"assistant\", \"content\": 'answer'})\n",
    "print(history_list)\n"
   ]
  },
  {
   "cell_type": "code",
   "execution_count": 144,
   "metadata": {},
   "outputs": [],
   "source": [
    "def update_chat_history(table, session_id: str, share_token: str, new_history: str):\n",
    "        results = table.search().where(f\"session_id = '{session_id}'\").limit(1).to_list()\n",
    "        if results:\n",
    "            table.update(where=f\"session_id = '{session_id}'\", values={'history': new_history})\n",
    "        else:\n",
    "           \n",
    "            table.add([{\"session_id\" : session_id, \"share_token\": share_token, \"history\": new_history}])\n",
    "\n",
    "update_chat_history(table, session_id, share_token, json.dumps(history_list))"
   ]
  },
  {
   "cell_type": "markdown",
   "metadata": {},
   "source": [
    "<h2> outdated code\n"
   ]
  },
  {
   "cell_type": "code",
   "execution_count": 22,
   "metadata": {},
   "outputs": [],
   "source": [
    "\n",
    "class HandbookChunk(LanceModel):\n",
    "    chunk_id: str\n",
    "    source_url: str\n",
    "    chunk: str \n",
    "    vector: Vector"
   ]
  },
  {
   "cell_type": "code",
   "execution_count": 83,
   "metadata": {},
   "outputs": [
    {
     "ename": "TypeError",
     "evalue": "Converting Pydantic type to Arrow Type: unsupported type <function Vector at 0x00000271428BA0D0>.",
     "output_type": "error",
     "traceback": [
      "\u001b[1;31m---------------------------------------------------------------------------\u001b[0m",
      "\u001b[1;31mTypeError\u001b[0m                                 Traceback (most recent call last)",
      "Cell \u001b[1;32mIn[83], line 7\u001b[0m\n\u001b[0;32m      5\u001b[0m db \u001b[38;5;241m=\u001b[39m lancedb\u001b[38;5;241m.\u001b[39mconnect(\u001b[38;5;124m\"\u001b[39m\u001b[38;5;124m../data/lancedb\u001b[39m\u001b[38;5;124m\"\u001b[39m)\n\u001b[0;32m      6\u001b[0m db\u001b[38;5;241m.\u001b[39mdrop_database()\n\u001b[1;32m----> 7\u001b[0m table \u001b[38;5;241m=\u001b[39m \u001b[43mdb\u001b[49m\u001b[38;5;241;43m.\u001b[39;49m\u001b[43mcreate_table\u001b[49m\u001b[43m(\u001b[49m\u001b[38;5;124;43m\"\u001b[39;49m\u001b[38;5;124;43membedded_handbook\u001b[39;49m\u001b[38;5;124;43m\"\u001b[39;49m\u001b[43m,\u001b[49m\u001b[43m \u001b[49m\u001b[43mdata\u001b[49m\u001b[38;5;241;43m=\u001b[39;49m\u001b[43mdf\u001b[49m\u001b[43m,\u001b[49m\u001b[43m \u001b[49m\u001b[43mschema\u001b[49m\u001b[38;5;241;43m=\u001b[39;49m\u001b[43mHandbookChunk\u001b[49m\u001b[43m)\u001b[49m\n\u001b[0;32m      8\u001b[0m table\u001b[38;5;241m.\u001b[39mhead()\n",
      "File \u001b[1;32mc:\\Users\\laure\\anaconda3\\envs\\my_chatbot_env\\lib\\site-packages\\lancedb\\db.py:453\u001b[0m, in \u001b[0;36mLanceDBConnection.create_table\u001b[1;34m(self, name, data, schema, mode, exist_ok, on_bad_vectors, fill_value, embedding_functions, storage_options, data_storage_version, enable_v2_manifest_paths)\u001b[0m\n\u001b[0;32m    450\u001b[0m     \u001b[38;5;28;01mraise\u001b[39;00m \u001b[38;5;167;01mValueError\u001b[39;00m(\u001b[38;5;124m\"\u001b[39m\u001b[38;5;124mmode must be either \u001b[39m\u001b[38;5;124m'\u001b[39m\u001b[38;5;124mcreate\u001b[39m\u001b[38;5;124m'\u001b[39m\u001b[38;5;124m or \u001b[39m\u001b[38;5;124m'\u001b[39m\u001b[38;5;124moverwrite\u001b[39m\u001b[38;5;124m'\u001b[39m\u001b[38;5;124m\"\u001b[39m)\n\u001b[0;32m    451\u001b[0m validate_table_name(name)\n\u001b[1;32m--> 453\u001b[0m tbl \u001b[38;5;241m=\u001b[39m \u001b[43mLanceTable\u001b[49m\u001b[38;5;241;43m.\u001b[39;49m\u001b[43mcreate\u001b[49m\u001b[43m(\u001b[49m\n\u001b[0;32m    454\u001b[0m \u001b[43m    \u001b[49m\u001b[38;5;28;43mself\u001b[39;49m\u001b[43m,\u001b[49m\n\u001b[0;32m    455\u001b[0m \u001b[43m    \u001b[49m\u001b[43mname\u001b[49m\u001b[43m,\u001b[49m\n\u001b[0;32m    456\u001b[0m \u001b[43m    \u001b[49m\u001b[43mdata\u001b[49m\u001b[43m,\u001b[49m\n\u001b[0;32m    457\u001b[0m \u001b[43m    \u001b[49m\u001b[43mschema\u001b[49m\u001b[43m,\u001b[49m\n\u001b[0;32m    458\u001b[0m \u001b[43m    \u001b[49m\u001b[43mmode\u001b[49m\u001b[38;5;241;43m=\u001b[39;49m\u001b[43mmode\u001b[49m\u001b[43m,\u001b[49m\n\u001b[0;32m    459\u001b[0m \u001b[43m    \u001b[49m\u001b[43mexist_ok\u001b[49m\u001b[38;5;241;43m=\u001b[39;49m\u001b[43mexist_ok\u001b[49m\u001b[43m,\u001b[49m\n\u001b[0;32m    460\u001b[0m \u001b[43m    \u001b[49m\u001b[43mon_bad_vectors\u001b[49m\u001b[38;5;241;43m=\u001b[39;49m\u001b[43mon_bad_vectors\u001b[49m\u001b[43m,\u001b[49m\n\u001b[0;32m    461\u001b[0m \u001b[43m    \u001b[49m\u001b[43mfill_value\u001b[49m\u001b[38;5;241;43m=\u001b[39;49m\u001b[43mfill_value\u001b[49m\u001b[43m,\u001b[49m\n\u001b[0;32m    462\u001b[0m \u001b[43m    \u001b[49m\u001b[43membedding_functions\u001b[49m\u001b[38;5;241;43m=\u001b[39;49m\u001b[43membedding_functions\u001b[49m\u001b[43m,\u001b[49m\n\u001b[0;32m    463\u001b[0m \u001b[43m    \u001b[49m\u001b[43mstorage_options\u001b[49m\u001b[38;5;241;43m=\u001b[39;49m\u001b[43mstorage_options\u001b[49m\u001b[43m,\u001b[49m\n\u001b[0;32m    464\u001b[0m \u001b[43m    \u001b[49m\u001b[43mdata_storage_version\u001b[49m\u001b[38;5;241;43m=\u001b[39;49m\u001b[43mdata_storage_version\u001b[49m\u001b[43m,\u001b[49m\n\u001b[0;32m    465\u001b[0m \u001b[43m    \u001b[49m\u001b[43menable_v2_manifest_paths\u001b[49m\u001b[38;5;241;43m=\u001b[39;49m\u001b[43menable_v2_manifest_paths\u001b[49m\u001b[43m,\u001b[49m\n\u001b[0;32m    466\u001b[0m \u001b[43m\u001b[49m\u001b[43m)\u001b[49m\n\u001b[0;32m    467\u001b[0m \u001b[38;5;28;01mreturn\u001b[39;00m tbl\n",
      "File \u001b[1;32mc:\\Users\\laure\\anaconda3\\envs\\my_chatbot_env\\lib\\site-packages\\lancedb\\table.py:2069\u001b[0m, in \u001b[0;36mLanceTable.create\u001b[1;34m(cls, db, name, data, schema, mode, exist_ok, on_bad_vectors, fill_value, embedding_functions, storage_options, data_storage_version, enable_v2_manifest_paths)\u001b[0m\n\u001b[0;32m   2066\u001b[0m \u001b[38;5;28mself\u001b[39m \u001b[38;5;241m=\u001b[39m \u001b[38;5;28mcls\u001b[39m\u001b[38;5;241m.\u001b[39m\u001b[38;5;21m__new__\u001b[39m(\u001b[38;5;28mcls\u001b[39m)\n\u001b[0;32m   2067\u001b[0m \u001b[38;5;28mself\u001b[39m\u001b[38;5;241m.\u001b[39m_conn \u001b[38;5;241m=\u001b[39m db\n\u001b[1;32m-> 2069\u001b[0m \u001b[38;5;28mself\u001b[39m\u001b[38;5;241m.\u001b[39m_table \u001b[38;5;241m=\u001b[39m \u001b[43mLOOP\u001b[49m\u001b[38;5;241;43m.\u001b[39;49m\u001b[43mrun\u001b[49m\u001b[43m(\u001b[49m\n\u001b[0;32m   2070\u001b[0m \u001b[43m    \u001b[49m\u001b[38;5;28;43mself\u001b[39;49m\u001b[38;5;241;43m.\u001b[39;49m\u001b[43m_conn\u001b[49m\u001b[38;5;241;43m.\u001b[39;49m\u001b[43m_conn\u001b[49m\u001b[38;5;241;43m.\u001b[39;49m\u001b[43mcreate_table\u001b[49m\u001b[43m(\u001b[49m\n\u001b[0;32m   2071\u001b[0m \u001b[43m        \u001b[49m\u001b[43mname\u001b[49m\u001b[43m,\u001b[49m\n\u001b[0;32m   2072\u001b[0m \u001b[43m        \u001b[49m\u001b[43mdata\u001b[49m\u001b[43m,\u001b[49m\n\u001b[0;32m   2073\u001b[0m \u001b[43m        \u001b[49m\u001b[43mschema\u001b[49m\u001b[38;5;241;43m=\u001b[39;49m\u001b[43mschema\u001b[49m\u001b[43m,\u001b[49m\n\u001b[0;32m   2074\u001b[0m \u001b[43m        \u001b[49m\u001b[43mmode\u001b[49m\u001b[38;5;241;43m=\u001b[39;49m\u001b[43mmode\u001b[49m\u001b[43m,\u001b[49m\n\u001b[0;32m   2075\u001b[0m \u001b[43m        \u001b[49m\u001b[43mexist_ok\u001b[49m\u001b[38;5;241;43m=\u001b[39;49m\u001b[43mexist_ok\u001b[49m\u001b[43m,\u001b[49m\n\u001b[0;32m   2076\u001b[0m \u001b[43m        \u001b[49m\u001b[43mon_bad_vectors\u001b[49m\u001b[38;5;241;43m=\u001b[39;49m\u001b[43mon_bad_vectors\u001b[49m\u001b[43m,\u001b[49m\n\u001b[0;32m   2077\u001b[0m \u001b[43m        \u001b[49m\u001b[43mfill_value\u001b[49m\u001b[38;5;241;43m=\u001b[39;49m\u001b[43mfill_value\u001b[49m\u001b[43m,\u001b[49m\n\u001b[0;32m   2078\u001b[0m \u001b[43m        \u001b[49m\u001b[43membedding_functions\u001b[49m\u001b[38;5;241;43m=\u001b[39;49m\u001b[43membedding_functions\u001b[49m\u001b[43m,\u001b[49m\n\u001b[0;32m   2079\u001b[0m \u001b[43m        \u001b[49m\u001b[43mstorage_options\u001b[49m\u001b[38;5;241;43m=\u001b[39;49m\u001b[43mstorage_options\u001b[49m\u001b[43m,\u001b[49m\n\u001b[0;32m   2080\u001b[0m \u001b[43m        \u001b[49m\u001b[43mdata_storage_version\u001b[49m\u001b[38;5;241;43m=\u001b[39;49m\u001b[43mdata_storage_version\u001b[49m\u001b[43m,\u001b[49m\n\u001b[0;32m   2081\u001b[0m \u001b[43m        \u001b[49m\u001b[43menable_v2_manifest_paths\u001b[49m\u001b[38;5;241;43m=\u001b[39;49m\u001b[43menable_v2_manifest_paths\u001b[49m\u001b[43m,\u001b[49m\n\u001b[0;32m   2082\u001b[0m \u001b[43m    \u001b[49m\u001b[43m)\u001b[49m\n\u001b[0;32m   2083\u001b[0m \u001b[43m\u001b[49m\u001b[43m)\u001b[49m\n\u001b[0;32m   2084\u001b[0m \u001b[38;5;28;01mreturn\u001b[39;00m \u001b[38;5;28mself\u001b[39m\n",
      "File \u001b[1;32mc:\\Users\\laure\\anaconda3\\envs\\my_chatbot_env\\lib\\site-packages\\lancedb\\background_loop.py:25\u001b[0m, in \u001b[0;36mBackgroundEventLoop.run\u001b[1;34m(self, future)\u001b[0m\n\u001b[0;32m     24\u001b[0m \u001b[38;5;28;01mdef\u001b[39;00m\u001b[38;5;250m \u001b[39m\u001b[38;5;21mrun\u001b[39m(\u001b[38;5;28mself\u001b[39m, future):\n\u001b[1;32m---> 25\u001b[0m     \u001b[38;5;28;01mreturn\u001b[39;00m \u001b[43masyncio\u001b[49m\u001b[38;5;241;43m.\u001b[39;49m\u001b[43mrun_coroutine_threadsafe\u001b[49m\u001b[43m(\u001b[49m\u001b[43mfuture\u001b[49m\u001b[43m,\u001b[49m\u001b[43m \u001b[49m\u001b[38;5;28;43mself\u001b[39;49m\u001b[38;5;241;43m.\u001b[39;49m\u001b[43mloop\u001b[49m\u001b[43m)\u001b[49m\u001b[38;5;241;43m.\u001b[39;49m\u001b[43mresult\u001b[49m\u001b[43m(\u001b[49m\u001b[43m)\u001b[49m\n",
      "File \u001b[1;32mc:\\Users\\laure\\anaconda3\\envs\\my_chatbot_env\\lib\\concurrent\\futures\\_base.py:446\u001b[0m, in \u001b[0;36mFuture.result\u001b[1;34m(self, timeout)\u001b[0m\n\u001b[0;32m    444\u001b[0m     \u001b[38;5;28;01mraise\u001b[39;00m CancelledError()\n\u001b[0;32m    445\u001b[0m \u001b[38;5;28;01melif\u001b[39;00m \u001b[38;5;28mself\u001b[39m\u001b[38;5;241m.\u001b[39m_state \u001b[38;5;241m==\u001b[39m FINISHED:\n\u001b[1;32m--> 446\u001b[0m     \u001b[38;5;28;01mreturn\u001b[39;00m \u001b[38;5;28;43mself\u001b[39;49m\u001b[38;5;241;43m.\u001b[39;49m\u001b[43m__get_result\u001b[49m\u001b[43m(\u001b[49m\u001b[43m)\u001b[49m\n\u001b[0;32m    447\u001b[0m \u001b[38;5;28;01melse\u001b[39;00m:\n\u001b[0;32m    448\u001b[0m     \u001b[38;5;28;01mraise\u001b[39;00m \u001b[38;5;167;01mTimeoutError\u001b[39;00m()\n",
      "File \u001b[1;32mc:\\Users\\laure\\anaconda3\\envs\\my_chatbot_env\\lib\\concurrent\\futures\\_base.py:391\u001b[0m, in \u001b[0;36mFuture.__get_result\u001b[1;34m(self)\u001b[0m\n\u001b[0;32m    389\u001b[0m \u001b[38;5;28;01mif\u001b[39;00m \u001b[38;5;28mself\u001b[39m\u001b[38;5;241m.\u001b[39m_exception:\n\u001b[0;32m    390\u001b[0m     \u001b[38;5;28;01mtry\u001b[39;00m:\n\u001b[1;32m--> 391\u001b[0m         \u001b[38;5;28;01mraise\u001b[39;00m \u001b[38;5;28mself\u001b[39m\u001b[38;5;241m.\u001b[39m_exception\n\u001b[0;32m    392\u001b[0m     \u001b[38;5;28;01mfinally\u001b[39;00m:\n\u001b[0;32m    393\u001b[0m         \u001b[38;5;66;03m# Break a reference cycle with the exception in self._exception\u001b[39;00m\n\u001b[0;32m    394\u001b[0m         \u001b[38;5;28mself\u001b[39m \u001b[38;5;241m=\u001b[39m \u001b[38;5;28;01mNone\u001b[39;00m\n",
      "File \u001b[1;32mc:\\Users\\laure\\anaconda3\\envs\\my_chatbot_env\\lib\\site-packages\\lancedb\\db.py:795\u001b[0m, in \u001b[0;36mAsyncConnection.create_table\u001b[1;34m(self, name, data, schema, mode, exist_ok, on_bad_vectors, fill_value, storage_options, embedding_functions, data_storage_version, use_legacy_format, enable_v2_manifest_paths)\u001b[0m\n\u001b[0;32m    792\u001b[0m \u001b[38;5;28;01mif\u001b[39;00m fill_value \u001b[38;5;129;01mis\u001b[39;00m \u001b[38;5;28;01mNone\u001b[39;00m:\n\u001b[0;32m    793\u001b[0m     fill_value \u001b[38;5;241m=\u001b[39m \u001b[38;5;241m0.0\u001b[39m\n\u001b[1;32m--> 795\u001b[0m data, schema \u001b[38;5;241m=\u001b[39m \u001b[43msanitize_create_table\u001b[49m\u001b[43m(\u001b[49m\n\u001b[0;32m    796\u001b[0m \u001b[43m    \u001b[49m\u001b[43mdata\u001b[49m\u001b[43m,\u001b[49m\u001b[43m \u001b[49m\u001b[43mschema\u001b[49m\u001b[43m,\u001b[49m\u001b[43m \u001b[49m\u001b[43mmetadata\u001b[49m\u001b[43m,\u001b[49m\u001b[43m \u001b[49m\u001b[43mon_bad_vectors\u001b[49m\u001b[43m,\u001b[49m\u001b[43m \u001b[49m\u001b[43mfill_value\u001b[49m\n\u001b[0;32m    797\u001b[0m \u001b[43m\u001b[49m\u001b[43m)\u001b[49m\n\u001b[0;32m    798\u001b[0m validate_schema(schema)\n\u001b[0;32m    800\u001b[0m \u001b[38;5;28;01mif\u001b[39;00m exist_ok \u001b[38;5;129;01mis\u001b[39;00m \u001b[38;5;28;01mNone\u001b[39;00m:\n",
      "File \u001b[1;32mc:\\Users\\laure\\anaconda3\\envs\\my_chatbot_env\\lib\\site-packages\\lancedb\\table.py:321\u001b[0m, in \u001b[0;36msanitize_create_table\u001b[1;34m(data, schema, metadata, on_bad_vectors, fill_value)\u001b[0m\n\u001b[0;32m    310\u001b[0m \u001b[38;5;28;01mdef\u001b[39;00m\u001b[38;5;250m \u001b[39m\u001b[38;5;21msanitize_create_table\u001b[39m(\n\u001b[0;32m    311\u001b[0m     data,\n\u001b[0;32m    312\u001b[0m     schema: Union[pa\u001b[38;5;241m.\u001b[39mSchema, LanceModel],\n\u001b[1;32m   (...)\u001b[0m\n\u001b[0;32m    315\u001b[0m     fill_value: \u001b[38;5;28mfloat\u001b[39m \u001b[38;5;241m=\u001b[39m \u001b[38;5;241m0.0\u001b[39m,\n\u001b[0;32m    316\u001b[0m ):\n\u001b[0;32m    317\u001b[0m     \u001b[38;5;28;01mif\u001b[39;00m inspect\u001b[38;5;241m.\u001b[39misclass(schema) \u001b[38;5;129;01mand\u001b[39;00m \u001b[38;5;28missubclass\u001b[39m(schema, LanceModel):\n\u001b[0;32m    318\u001b[0m         \u001b[38;5;66;03m# convert LanceModel to pyarrow schema\u001b[39;00m\n\u001b[0;32m    319\u001b[0m         \u001b[38;5;66;03m# note that it's possible this contains\u001b[39;00m\n\u001b[0;32m    320\u001b[0m         \u001b[38;5;66;03m# embedding function metadata already\u001b[39;00m\n\u001b[1;32m--> 321\u001b[0m         schema: pa\u001b[38;5;241m.\u001b[39mSchema \u001b[38;5;241m=\u001b[39m \u001b[43mschema\u001b[49m\u001b[38;5;241;43m.\u001b[39;49m\u001b[43mto_arrow_schema\u001b[49m\u001b[43m(\u001b[49m\u001b[43m)\u001b[49m\n\u001b[0;32m    323\u001b[0m     \u001b[38;5;28;01mif\u001b[39;00m data \u001b[38;5;129;01mis\u001b[39;00m \u001b[38;5;129;01mnot\u001b[39;00m \u001b[38;5;28;01mNone\u001b[39;00m:\n\u001b[0;32m    324\u001b[0m         \u001b[38;5;28;01mif\u001b[39;00m metadata \u001b[38;5;129;01mis\u001b[39;00m \u001b[38;5;28;01mNone\u001b[39;00m \u001b[38;5;129;01mand\u001b[39;00m schema \u001b[38;5;129;01mis\u001b[39;00m \u001b[38;5;129;01mnot\u001b[39;00m \u001b[38;5;28;01mNone\u001b[39;00m:\n",
      "File \u001b[1;32mc:\\Users\\laure\\anaconda3\\envs\\my_chatbot_env\\lib\\site-packages\\lancedb\\pydantic.py:320\u001b[0m, in \u001b[0;36mLanceModel.to_arrow_schema\u001b[1;34m(cls)\u001b[0m\n\u001b[0;32m    315\u001b[0m \u001b[38;5;129m@classmethod\u001b[39m\n\u001b[0;32m    316\u001b[0m \u001b[38;5;28;01mdef\u001b[39;00m\u001b[38;5;250m \u001b[39m\u001b[38;5;21mto_arrow_schema\u001b[39m(\u001b[38;5;28mcls\u001b[39m):\n\u001b[0;32m    317\u001b[0m \u001b[38;5;250m    \u001b[39m\u001b[38;5;124;03m\"\"\"\u001b[39;00m\n\u001b[0;32m    318\u001b[0m \u001b[38;5;124;03m    Get the Arrow Schema for this model.\u001b[39;00m\n\u001b[0;32m    319\u001b[0m \u001b[38;5;124;03m    \"\"\"\u001b[39;00m\n\u001b[1;32m--> 320\u001b[0m     schema \u001b[38;5;241m=\u001b[39m \u001b[43mpydantic_to_schema\u001b[49m\u001b[43m(\u001b[49m\u001b[38;5;28;43mcls\u001b[39;49m\u001b[43m)\u001b[49m\n\u001b[0;32m    321\u001b[0m     functions \u001b[38;5;241m=\u001b[39m \u001b[38;5;28mcls\u001b[39m\u001b[38;5;241m.\u001b[39mparse_embedding_functions()\n\u001b[0;32m    322\u001b[0m     \u001b[38;5;28;01mif\u001b[39;00m \u001b[38;5;28mlen\u001b[39m(functions) \u001b[38;5;241m>\u001b[39m \u001b[38;5;241m0\u001b[39m:\n\u001b[0;32m    323\u001b[0m         \u001b[38;5;66;03m# Prevent circular import\u001b[39;00m\n",
      "File \u001b[1;32mc:\\Users\\laure\\anaconda3\\envs\\my_chatbot_env\\lib\\site-packages\\lancedb\\pydantic.py:289\u001b[0m, in \u001b[0;36mpydantic_to_schema\u001b[1;34m(model)\u001b[0m\n\u001b[0;32m    257\u001b[0m \u001b[38;5;28;01mdef\u001b[39;00m\u001b[38;5;250m \u001b[39m\u001b[38;5;21mpydantic_to_schema\u001b[39m(model: Type[pydantic\u001b[38;5;241m.\u001b[39mBaseModel]) \u001b[38;5;241m-\u001b[39m\u001b[38;5;241m>\u001b[39m pa\u001b[38;5;241m.\u001b[39mSchema:\n\u001b[0;32m    258\u001b[0m \u001b[38;5;250m    \u001b[39m\u001b[38;5;124;03m\"\"\"Convert a Pydantic model to a PyArrow Schema.\u001b[39;00m\n\u001b[0;32m    259\u001b[0m \n\u001b[0;32m    260\u001b[0m \u001b[38;5;124;03m    Parameters\u001b[39;00m\n\u001b[1;32m   (...)\u001b[0m\n\u001b[0;32m    287\u001b[0m \u001b[38;5;124;03m    ... ])\u001b[39;00m\n\u001b[0;32m    288\u001b[0m \u001b[38;5;124;03m    \"\"\"\u001b[39;00m\n\u001b[1;32m--> 289\u001b[0m     fields \u001b[38;5;241m=\u001b[39m \u001b[43m_pydantic_model_to_fields\u001b[49m\u001b[43m(\u001b[49m\u001b[43mmodel\u001b[49m\u001b[43m)\u001b[49m\n\u001b[0;32m    290\u001b[0m     \u001b[38;5;28;01mreturn\u001b[39;00m pa\u001b[38;5;241m.\u001b[39mschema(fields)\n",
      "File \u001b[1;32mc:\\Users\\laure\\anaconda3\\envs\\my_chatbot_env\\lib\\site-packages\\lancedb\\pydantic.py:196\u001b[0m, in \u001b[0;36m_pydantic_model_to_fields\u001b[1;34m(model)\u001b[0m\n\u001b[0;32m    195\u001b[0m \u001b[38;5;28;01mdef\u001b[39;00m\u001b[38;5;250m \u001b[39m\u001b[38;5;21m_pydantic_model_to_fields\u001b[39m(model: pydantic\u001b[38;5;241m.\u001b[39mBaseModel) \u001b[38;5;241m-\u001b[39m\u001b[38;5;241m>\u001b[39m List[pa\u001b[38;5;241m.\u001b[39mField]:\n\u001b[1;32m--> 196\u001b[0m     \u001b[38;5;28;01mreturn\u001b[39;00m [\n\u001b[0;32m    197\u001b[0m         _pydantic_to_field(name, field)\n\u001b[0;32m    198\u001b[0m         \u001b[38;5;28;01mfor\u001b[39;00m name, field \u001b[38;5;129;01min\u001b[39;00m model\u001b[38;5;241m.\u001b[39mmodel_fields\u001b[38;5;241m.\u001b[39mitems()\n\u001b[0;32m    199\u001b[0m     ]\n",
      "File \u001b[1;32mc:\\Users\\laure\\anaconda3\\envs\\my_chatbot_env\\lib\\site-packages\\lancedb\\pydantic.py:197\u001b[0m, in \u001b[0;36m<listcomp>\u001b[1;34m(.0)\u001b[0m\n\u001b[0;32m    195\u001b[0m \u001b[38;5;28;01mdef\u001b[39;00m\u001b[38;5;250m \u001b[39m\u001b[38;5;21m_pydantic_model_to_fields\u001b[39m(model: pydantic\u001b[38;5;241m.\u001b[39mBaseModel) \u001b[38;5;241m-\u001b[39m\u001b[38;5;241m>\u001b[39m List[pa\u001b[38;5;241m.\u001b[39mField]:\n\u001b[0;32m    196\u001b[0m     \u001b[38;5;28;01mreturn\u001b[39;00m [\n\u001b[1;32m--> 197\u001b[0m         \u001b[43m_pydantic_to_field\u001b[49m\u001b[43m(\u001b[49m\u001b[43mname\u001b[49m\u001b[43m,\u001b[49m\u001b[43m \u001b[49m\u001b[43mfield\u001b[49m\u001b[43m)\u001b[49m\n\u001b[0;32m    198\u001b[0m         \u001b[38;5;28;01mfor\u001b[39;00m name, field \u001b[38;5;129;01min\u001b[39;00m model\u001b[38;5;241m.\u001b[39mmodel_fields\u001b[38;5;241m.\u001b[39mitems()\n\u001b[0;32m    199\u001b[0m     ]\n",
      "File \u001b[1;32mc:\\Users\\laure\\anaconda3\\envs\\my_chatbot_env\\lib\\site-packages\\lancedb\\pydantic.py:253\u001b[0m, in \u001b[0;36m_pydantic_to_field\u001b[1;34m(name, field)\u001b[0m\n\u001b[0;32m    251\u001b[0m \u001b[38;5;28;01mdef\u001b[39;00m\u001b[38;5;250m \u001b[39m\u001b[38;5;21m_pydantic_to_field\u001b[39m(name: \u001b[38;5;28mstr\u001b[39m, field: FieldInfo) \u001b[38;5;241m-\u001b[39m\u001b[38;5;241m>\u001b[39m pa\u001b[38;5;241m.\u001b[39mField:\n\u001b[0;32m    252\u001b[0m \u001b[38;5;250m    \u001b[39m\u001b[38;5;124;03m\"\"\"Convert a Pydantic field to a PyArrow Field.\"\"\"\u001b[39;00m\n\u001b[1;32m--> 253\u001b[0m     dt \u001b[38;5;241m=\u001b[39m \u001b[43m_pydantic_to_arrow_type\u001b[49m\u001b[43m(\u001b[49m\u001b[43mfield\u001b[49m\u001b[43m)\u001b[49m\n\u001b[0;32m    254\u001b[0m     \u001b[38;5;28;01mreturn\u001b[39;00m pa\u001b[38;5;241m.\u001b[39mfield(name, dt, is_nullable(field))\n",
      "File \u001b[1;32mc:\\Users\\laure\\anaconda3\\envs\\my_chatbot_env\\lib\\site-packages\\lancedb\\pydantic.py:228\u001b[0m, in \u001b[0;36m_pydantic_to_arrow_type\u001b[1;34m(field)\u001b[0m\n\u001b[0;32m    226\u001b[0m     \u001b[38;5;28;01melif\u001b[39;00m \u001b[38;5;28missubclass\u001b[39m(field\u001b[38;5;241m.\u001b[39mannotation, FixedSizeListMixin):\n\u001b[0;32m    227\u001b[0m         \u001b[38;5;28;01mreturn\u001b[39;00m pa\u001b[38;5;241m.\u001b[39mlist_(field\u001b[38;5;241m.\u001b[39mannotation\u001b[38;5;241m.\u001b[39mvalue_arrow_type(), field\u001b[38;5;241m.\u001b[39mannotation\u001b[38;5;241m.\u001b[39mdim())\n\u001b[1;32m--> 228\u001b[0m \u001b[38;5;28;01mreturn\u001b[39;00m \u001b[43m_py_type_to_arrow_type\u001b[49m\u001b[43m(\u001b[49m\u001b[43mfield\u001b[49m\u001b[38;5;241;43m.\u001b[39;49m\u001b[43mannotation\u001b[49m\u001b[43m,\u001b[49m\u001b[43m \u001b[49m\u001b[43mfield\u001b[49m\u001b[43m)\u001b[49m\n",
      "File \u001b[1;32mc:\\Users\\laure\\anaconda3\\envs\\my_chatbot_env\\lib\\site-packages\\lancedb\\pydantic.py:181\u001b[0m, in \u001b[0;36m_py_type_to_arrow_type\u001b[1;34m(py_type, field)\u001b[0m\n\u001b[0;32m    179\u001b[0m     child \u001b[38;5;241m=\u001b[39m py_type\u001b[38;5;241m.\u001b[39m__args__[\u001b[38;5;241m0\u001b[39m]\n\u001b[0;32m    180\u001b[0m     \u001b[38;5;28;01mreturn\u001b[39;00m pa\u001b[38;5;241m.\u001b[39mlist_(_py_type_to_arrow_type(child, field))\n\u001b[1;32m--> 181\u001b[0m \u001b[38;5;28;01mraise\u001b[39;00m \u001b[38;5;167;01mTypeError\u001b[39;00m(\n\u001b[0;32m    182\u001b[0m     \u001b[38;5;124mf\u001b[39m\u001b[38;5;124m\"\u001b[39m\u001b[38;5;124mConverting Pydantic type to Arrow Type: unsupported type \u001b[39m\u001b[38;5;132;01m{\u001b[39;00mpy_type\u001b[38;5;132;01m}\u001b[39;00m\u001b[38;5;124m.\u001b[39m\u001b[38;5;124m\"\u001b[39m\n\u001b[0;32m    183\u001b[0m )\n",
      "\u001b[1;31mTypeError\u001b[0m: Converting Pydantic type to Arrow Type: unsupported type <function Vector at 0x00000271428BA0D0>."
     ]
    }
   ],
   "source": [
    "# embedded_df = pd.read_csv(\"../data/embedded_dataframe.csv\", index_col=\"chunk_id\")\n",
    "# trimmed_df = embedded_df.iloc[0:100]\n",
    "# trimmed_df.to_csv(\"../data/trimmed_dataframe.csv\", index=\"chunk_id\")\n",
    "# trimmed_df = pd.read_csv(\"../data/trimmed_dataframe.csv\", index_col = \"chunk_id\")\n",
    "db = lancedb.connect(\"../data/lancedb\")\n",
    "db.drop_database()\n",
    "table = db.create_table(\"embedded_handbook\", data=df, schema=HandbookChunk)\n",
    "table.head()"
   ]
  },
  {
   "cell_type": "code",
   "execution_count": 75,
   "metadata": {},
   "outputs": [
    {
     "name": "stdout",
     "output_type": "stream",
     "text": [
      "pyarrow.Table\n",
      "chunk_id: string not null\n",
      "file: string not null\n",
      "chunk: string not null\n",
      "vector: list<item: double> not null\n",
      "  child 0, item: double\n",
      "----\n",
      "chunk_id: [[\"1\",\"9\",\"12\",\"16\",\"25\"]]\n",
      "file: [[\"../data/handbook-main-content\\content\\handbook\\_index.md\",\"../data/handbook-main-content\\content\\handbook\\about\\direction.md\",\"../data/handbook-main-content\\content\\handbook\\about\\escalation.md\",\"../data/handbook-main-content\\content\\handbook\\about\\escalation.md\",\"../data/handbook-main-content\\content\\handbook\\about\\handbook-usage.md\"]]\n",
      "chunk: [[\"---\n",
      "title: The Handbook\n",
      "no_list: true\n",
      "menu:\n",
      "  main:\n",
      "    name: Handbook\n",
      "    pre: '<i class=\"fa-solid fa-book\"></i>'\n",
      "cascade:\n",
      "      type: docs\n",
      "---\n",
      "\n",
      "## Introduction\n",
      "The GitLab team handbook is the central repository for how we run the company. Printed, it consists of over\n",
      "[2,000 pages of text](/handbook/about/#count-handbook-pages). As part of our value of being\n",
      "transparent the handbook is [open to the world](https://gitlab.com/gitlab-com/content-sites/handbook/), and we welcome\n",
      "feedback. Please make a [merge request](https://gitlab.com/gitlab-com/content-sites/handbook/merge_requests) to suggest\n",
      "improvements or add clarifications. Please use [issues](https://gitlab.com/gitlab-com/content-sites/handbook/issues) to\n",
      "ask questions.\n",
      "\n",
      "For a very specific set of [internal](/handbook/communication/confidentiality-levels/#internal)\n",
      "information we also maintain an [Internal Handbook](https://internal.gitlab.com/handbook/)\n",
      "## Handbook Contents\n",
      "{{< cardpane >}}\",\"## Where we are Headed\n",
      "At GitLab, we encourage everyone to work [handbook first](/handbook/about/handbook-usage/#why-handbook-first) in order to promote asynchronous collaboration and documentation. Working this way has its challenges, not the least of which is the time and effort involved in making a change. While this extra investment can encourage contributors to be more considered and deliberate with their changes, at a certain point it discourages meaningful collaboration and works against our goals.\n",
      "\n",
      "Our hope is that the GitLab Handbook is something that others want to emulate. To facilitate that, we want to ensure that any user can easily use and update the handbook. Ideally, the handbook has:\n",
      "\n",
      "- Organized, and up-to-date content\n",
      "- Fast, predictable deployments\n",
      "- A clean, scalable information architecture and modern codebase\n",
      "### What's Next & Why\n",
      "We are focused on maintaining the handbook's fast (pipeline under 10 minutes) and stable (minimal pipeline failures) state.\",\"---\n",
      "title: Handbook Escalation\n",
      "---\n",
      "\n",
      "For information on team members' roles and responsibilities, see [Content Websites page](maintenance.md).\n",
      "\n",
      "## Introduction\n",
      "The Handbook is a critical part of empowering team members to do their jobs effectively. As such, we have a group of team members who assist in resolving issues affecting all team members.\n",
      "## Reporting an issue\n",
      "If you're looking for general help, please see the [editing handbook page](editing-handbook/_index.md#need-help).\n",
      "\n",
      "Any work stopping issues should be reported in the [#handbook-escalation](https://gitlab.slack.com/archives/CVDP3HG5V) channel in Slack.\n",
      "Otherwise, consider creating an issue in the relevant [content sites repository](https://gitlab.com/gitlab-com/content-sites/) and posting in the [#handbook Slack channel](https://gitlab.enterprise.slack.com/archives/C81PT2ALD).\n",
      "### When to escalate an issue\n",
      "Issues should only be escalated if it relates to:\",\"### Expectations for the group\n",
      "1. Make sure you are in and do not mute the [#handbook-escalation](https://gitlab.slack.com/archives/CVDP3HG5V) channel.\n",
      "1. When an issue is reported:\n",
      "   1. Acknowledge the team member and let them know you are looking into it.\n",
      "   1. You can check on `#production`, `#incident-management`, and `#is-this-known` to see if it's a known issue with infrastructure or other problems.\n",
      "   1. Provide an update as soon as you are able to confirm their problem.\n",
      "   1. You can also post updates in `#mr-buddies` and/or `#handbook` as appropriate.\n",
      "   1. Offer to have a Zoom call to help replicate or resolve the issue if it is not straight forward.\n",
      "   1. Resolve the problem, or provide feedback to the team member on how they can resolve it.\n",
      "   1. If you do not believe you can resolve it and need further assistance, consider any or all of the following:\n",
      "      1. Ping another member of the [Keep main green group](#keep-main-green-group).\",\"> The biggest problem is GitLab not working handbook first. We have an amazing handbook that allows us to collaborate, onboard new people, and think collectively.\n",
      ">\n",
      "> However, it is counterintuitive to communicate changes to the handbook. The default of people, when they wish to communicate a change, is to send a Slack message, send an email, give a presentation, or tell people in a meeting — *anything* but make a change in the handbook.\n",
      ">\n",
      "> It's slower for them. It's quicker to use any other form. If they make a change in the handbook, they first have to find the relevant part of the handbook, they sometimes have to adjust the handbook to make sure their change will fit in, they have to go through a technical process and a review or two, and they have to wait a bit before it's deployed.\n",
      ">\n",
      "> It's slower than any other option. However, it allows people that commit a change after that to build upon a change. When they take that extra time, it's building a foundation for the next thing.\"]]\n",
      "vector: [[[0.0027410793118178844,-0.016906464472413063,-0.016785811632871628,0.0038062166422605515,0.006228697020560503,...,0.011039724573493004,-0.0021189635153859854,-0.0026298523880541325,-0.010066961869597435,-0.003715727012604475],[-0.020727613940835,-0.019570939242839813,-0.023688701912760735,-0.0051086475141346455,-0.00046821238356642425,...,-0.0011258302256464958,-0.0056754183024168015,-0.012353288009762764,0.005104791838675737,-0.011852062307298183],[-0.03587120771408081,-0.013893777504563332,-0.022861579433083534,-0.04215849190950394,-0.015942757949233055,...,-0.006911803036928177,0.017458442598581314,-0.020630154758691788,-0.0057574971579015255,-0.0057995994575321674],[-0.004696712363511324,-0.026874111965298653,-0.02859480492770672,-0.011082833632826805,-0.005095600616186857,...,0.014469471760094166,0.010590089485049248,-0.016925372183322906,0.0013755775289610028,0.013507448136806488],[-0.02360672876238823,-0.002861601999029517,-0.021353935822844505,-0.024241318926215172,-0.027477724477648735,...,0.006734580732882023,-0.001814529299736023,-0.007151030469685793,0.025796063244342804,-0.0018353518098592758]]]\n"
     ]
    }
   ],
   "source": [
    "import ast\n",
    "# trimmed_df['embedding'] = trimmed_df['embedding'].apply(ast.literal_eval)\n",
    "first_row = table.head(n=5)\n",
    "print(first_row)"
   ]
  },
  {
   "cell_type": "code",
   "execution_count": 64,
   "metadata": {},
   "outputs": [
    {
     "data": {
      "text/plain": [
       "pyarrow.Table\n",
       "file: string not null\n",
       "chunk: string not null\n",
       "vector: list<item: double> not null\n",
       "  child 0, item: double\n",
       "----\n",
       "file: [[\"../data/handbook-main-content\\content\\handbook\\_index.md\",\"../data/handbook-main-content\\content\\handbook\\about\\contributing.md\",\"../data/handbook-main-content\\content\\handbook\\about\\direction.md\",\"../data/handbook-main-content\\content\\handbook\\about\\direction.md\",\"../data/handbook-main-content\\content\\handbook\\about\\direction.md\"]]\n",
       "chunk: [[\"---\n",
       "title: The Handbook\n",
       "no_list: true\n",
       "menu:\n",
       "  main:\n",
       "    name: Handbook\n",
       "    pre: '<i class=\"fa-solid fa-book\"></i>'\n",
       "cascade:\n",
       "      type: docs\n",
       "---\n",
       "\n",
       "## Introduction\n",
       "The GitLab team handbook is the central repository for how we run the company. Printed, it consists of over\n",
       "[2,000 pages of text](/handbook/about/#count-handbook-pages). As part of our value of being\n",
       "transparent the handbook is [open to the world](https://gitlab.com/gitlab-com/content-sites/handbook/), and we welcome\n",
       "feedback. Please make a [merge request](https://gitlab.com/gitlab-com/content-sites/handbook/merge_requests) to suggest\n",
       "improvements or add clarifications. Please use [issues](https://gitlab.com/gitlab-com/content-sites/handbook/issues) to\n",
       "ask questions.\n",
       "\n",
       "For a very specific set of [internal](/handbook/communication/confidentiality-levels/#internal)\n",
       "information we also maintain an [Internal Handbook](https://internal.gitlab.com/handbook/)\n",
       "## Handbook Contents\n",
       "{{< cardpane >}}\",\"---\n",
       "title: Contributing to the Handbook\n",
       "description: Basic information on contributing to the GitLab Handbook.\n",
       "---\n",
       "\n",
       "{{% alert title=\"Note\" color=\"primary\" %}}\n",
       "Please see the [repository contributing file](https://gitlab.com/gitlab-com/content-sites/handbook/-/blob/main/CONTRIBUTING.md) for information on the *Developer Certificate of Origin + License* when contributing to GitLab.\n",
       "{{% /alert %}}\n",
       "\n",
       "You can help to improve the [GitLab Handbook](/) website by submitting merge requests to [the handbook project](https://gitlab.com/gitlab-com/content-sites/handbook/).\n",
       "Thank you for your interest and help!\n",
       "\n",
       "We don't mind people inside and outside the company making suggestions to change significant things.\n",
       "Feel free to make a proposal, we can discuss anything. If we don't agree, we'll feel free not to merge it, and we'll thank you for caring about it.\",\"## Overview\n",
       "The [GitLab Handbook](/handbook/) is the single source of truth for how we operate at GitLab, including processes, policies, and product direction. In keeping with our [value of transparency](/handbook/values/#transparency), the GitLab Handbook is entirely open to the world. We welcome feedback from the community and hope that it serves as [inspiration](/handbook/company/inspired-by-gitlab/) for other current or future companies. The GitLab Handbook is also an incredible talent acquisition tool, providing candidates with valuable insight into how GitLab runs as a company.\n",
       "\n",
       "A sub-section of the [handbook.gitlab.com](https://handbook.gitlab.com) website, the GitLab Handbook specifically refers to content that is in the `/handbook/` namespace of the website. The overall user experience and architecture of the GitLab Handbook is a shared responsibility. Feedback and questions can be directed to the `#handbook` Slack channel.\",\"### Target Audience\n",
       "**GitLab Team Members:** Every GitLab team member is responsible for using and updating our handbook. It is the central repository for process documentation and product direction.\n",
       "\n",
       "**Leadership:** GitLab leadership uses the handbook like any other member of the team, but additionally needs to reference the content during presentations to stakeholders or investors. Since everything we do is open to the public, members of leadership teams outside of GitLab may also use the GitLab Handbook as reference or inspiration for their own team processes and policies.\n",
       "\n",
       "**Potential Applicants:** Candidates for job opportunities at GitLab use the handbook to learn more about expectations for the role, compensation and benefits, GitLab's company values, and other policies. GitLab team members also use the handbook extensively to share specific, relevant information with potential applicants, making it a powerful talent acquisition tool in itself.\",\"## Where we are Headed\n",
       "At GitLab, we encourage everyone to work [handbook first](/handbook/about/handbook-usage/#why-handbook-first) in order to promote asynchronous collaboration and documentation. Working this way has its challenges, not the least of which is the time and effort involved in making a change. While this extra investment can encourage contributors to be more considered and deliberate with their changes, at a certain point it discourages meaningful collaboration and works against our goals.\n",
       "\n",
       "Our hope is that the GitLab Handbook is something that others want to emulate. To facilitate that, we want to ensure that any user can easily use and update the handbook. Ideally, the handbook has:\n",
       "\n",
       "- Organized, and up-to-date content\n",
       "- Fast, predictable deployments\n",
       "- A clean, scalable information architecture and modern codebase\n",
       "### What's Next & Why\n",
       "We are focused on maintaining the handbook's fast (pipeline under 10 minutes) and stable (minimal pipeline failures) state.\"]]\n",
       "vector: [[[0.0027410793118178844,-0.016906464472413063,-0.016785811632871628,0.0038062166422605515,0.006228697020560503,...,0.011039724573493004,-0.0021189635153859854,-0.0026298523880541325,-0.010066961869597435,-0.003715727012604475],[-0.02219940908253193,0.003469866933301091,-0.02347642369568348,-0.005704641807824373,-0.0013705329038202763,...,0.00591425271704793,0.005530503578484058,0.0003081683535128832,0.01525967475026846,-0.00609806552529335],[-0.02380637638270855,-0.02791140414774418,-0.023010503500699997,-0.022815026342868805,-0.012210367247462273,...,0.0012793309288099408,-0.0012452969094738364,0.002808244898915291,-0.001610071980394423,-0.0018395836232230067],[-0.02727527543902397,-0.03081398457288742,-0.024798180907964706,-0.01943567581474781,-0.009146200492978096,...,-0.00611107749864459,-0.011344282887876034,-0.0032630974892526865,-0.003902787109836936,-0.018850427120923996],[-0.020727613940835,-0.019570939242839813,-0.023688701912760735,-0.0051086475141346455,-0.00046821238356642425,...,-0.0011258302256464958,-0.0056754183024168015,-0.012353288009762764,0.005104791838675737,-0.011852062307298183]]]"
      ]
     },
     "execution_count": 64,
     "metadata": {},
     "output_type": "execute_result"
    }
   ],
   "source": [
    "db = lancedb.connect(\"../data/lancedb\")\n",
    "db.drop_database()\n",
    "table = db.create_table(\"embedded_handbook\", data=trimmed_df, schema = HandbookChunk)\n",
    "table.head()"
   ]
  },
  {
   "cell_type": "markdown",
   "metadata": {},
   "source": []
  },
  {
   "cell_type": "code",
   "execution_count": null,
   "metadata": {},
   "outputs": [
    {
     "ename": "RuntimeError",
     "evalue": "lance error: LanceError(Index): vector is not with valid data type: Float64, C:\\bld\\lancedb_1739017314986\\_build_env\\.cargo\\registry\\src\\index.crates.io-6f17d22bba15001f\\lance-0.22.0\\src\\index\\vector\\utils.rs:73:23",
     "output_type": "error",
     "traceback": [
      "\u001b[1;31m---------------------------------------------------------------------------\u001b[0m",
      "\u001b[1;31mRuntimeError\u001b[0m                              Traceback (most recent call last)",
      "Cell \u001b[1;32mIn[81], line 14\u001b[0m\n\u001b[0;32m      8\u001b[0m query_embedding \u001b[38;5;241m=\u001b[39m client\u001b[38;5;241m.\u001b[39membeddings\u001b[38;5;241m.\u001b[39mcreate(\n\u001b[0;32m      9\u001b[0m \u001b[38;5;28minput\u001b[39m\u001b[38;5;241m=\u001b[39m\u001b[38;5;124m'\u001b[39m\u001b[38;5;124mtest\u001b[39m\u001b[38;5;124m'\u001b[39m,\n\u001b[0;32m     10\u001b[0m model\u001b[38;5;241m=\u001b[39m\u001b[38;5;124m\"\u001b[39m\u001b[38;5;124mtext-embedding-3-large\u001b[39m\u001b[38;5;124m\"\u001b[39m\n\u001b[0;32m     11\u001b[0m )\u001b[38;5;241m.\u001b[39mdata[\u001b[38;5;241m0\u001b[39m]\u001b[38;5;241m.\u001b[39membedding\n\u001b[0;32m     13\u001b[0m results \u001b[38;5;241m=\u001b[39m table\u001b[38;5;241m.\u001b[39msearch(query_embedding, vector_column_name\u001b[38;5;241m=\u001b[39m\u001b[38;5;124m'\u001b[39m\u001b[38;5;124mvector\u001b[39m\u001b[38;5;124m'\u001b[39m)\u001b[38;5;241m.\u001b[39mlimit(\u001b[38;5;241m5\u001b[39m)\n\u001b[1;32m---> 14\u001b[0m \u001b[38;5;28mprint\u001b[39m(\u001b[43mresults\u001b[49m\u001b[38;5;241;43m.\u001b[39;49m\u001b[43mto_pydantic\u001b[49m\u001b[43m(\u001b[49m\u001b[43mHandbookChunk\u001b[49m\u001b[43m)\u001b[49m)\n",
      "File \u001b[1;32mc:\\Users\\laure\\anaconda3\\envs\\my_chatbot_env\\lib\\site-packages\\lancedb\\query.py:343\u001b[0m, in \u001b[0;36mLanceQueryBuilder.to_pydantic\u001b[1;34m(self, model)\u001b[0m\n\u001b[0;32m    329\u001b[0m \u001b[38;5;28;01mdef\u001b[39;00m\u001b[38;5;250m \u001b[39m\u001b[38;5;21mto_pydantic\u001b[39m(\u001b[38;5;28mself\u001b[39m, model: Type[LanceModel]) \u001b[38;5;241m-\u001b[39m\u001b[38;5;241m>\u001b[39m List[LanceModel]:\n\u001b[0;32m    330\u001b[0m \u001b[38;5;250m    \u001b[39m\u001b[38;5;124;03m\"\"\"Return the table as a list of pydantic models.\u001b[39;00m\n\u001b[0;32m    331\u001b[0m \n\u001b[0;32m    332\u001b[0m \u001b[38;5;124;03m    Parameters\u001b[39;00m\n\u001b[1;32m   (...)\u001b[0m\n\u001b[0;32m    339\u001b[0m \u001b[38;5;124;03m    List[LanceModel]\u001b[39;00m\n\u001b[0;32m    340\u001b[0m \u001b[38;5;124;03m    \"\"\"\u001b[39;00m\n\u001b[0;32m    341\u001b[0m     \u001b[38;5;28;01mreturn\u001b[39;00m [\n\u001b[0;32m    342\u001b[0m         model(\u001b[38;5;241m*\u001b[39m\u001b[38;5;241m*\u001b[39m{k: v \u001b[38;5;28;01mfor\u001b[39;00m k, v \u001b[38;5;129;01min\u001b[39;00m row\u001b[38;5;241m.\u001b[39mitems() \u001b[38;5;28;01mif\u001b[39;00m k \u001b[38;5;129;01min\u001b[39;00m model\u001b[38;5;241m.\u001b[39mfield_names()})\n\u001b[1;32m--> 343\u001b[0m         \u001b[38;5;28;01mfor\u001b[39;00m row \u001b[38;5;129;01min\u001b[39;00m \u001b[38;5;28;43mself\u001b[39;49m\u001b[38;5;241;43m.\u001b[39;49m\u001b[43mto_arrow\u001b[49m\u001b[43m(\u001b[49m\u001b[43m)\u001b[49m\u001b[38;5;241m.\u001b[39mto_pylist()\n\u001b[0;32m    344\u001b[0m     ]\n",
      "File \u001b[1;32mc:\\Users\\laure\\anaconda3\\envs\\my_chatbot_env\\lib\\site-packages\\lancedb\\query.py:718\u001b[0m, in \u001b[0;36mLanceVectorQueryBuilder.to_arrow\u001b[1;34m(self)\u001b[0m\n\u001b[0;32m    709\u001b[0m \u001b[38;5;28;01mdef\u001b[39;00m\u001b[38;5;250m \u001b[39m\u001b[38;5;21mto_arrow\u001b[39m(\u001b[38;5;28mself\u001b[39m) \u001b[38;5;241m-\u001b[39m\u001b[38;5;241m>\u001b[39m pa\u001b[38;5;241m.\u001b[39mTable:\n\u001b[0;32m    710\u001b[0m \u001b[38;5;250m    \u001b[39m\u001b[38;5;124;03m\"\"\"\u001b[39;00m\n\u001b[0;32m    711\u001b[0m \u001b[38;5;124;03m    Execute the query and return the results as an\u001b[39;00m\n\u001b[0;32m    712\u001b[0m \u001b[38;5;124;03m    [Apache Arrow Table](https://arrow.apache.org/docs/python/generated/pyarrow.Table.html#pyarrow.Table).\u001b[39;00m\n\u001b[1;32m   (...)\u001b[0m\n\u001b[0;32m    716\u001b[0m \u001b[38;5;124;03m    vector and the returned vectors.\u001b[39;00m\n\u001b[0;32m    717\u001b[0m \u001b[38;5;124;03m    \"\"\"\u001b[39;00m\n\u001b[1;32m--> 718\u001b[0m     \u001b[38;5;28;01mreturn\u001b[39;00m \u001b[38;5;28;43mself\u001b[39;49m\u001b[38;5;241;43m.\u001b[39;49m\u001b[43mto_batches\u001b[49m\u001b[43m(\u001b[49m\u001b[43m)\u001b[49m\u001b[38;5;241m.\u001b[39mread_all()\n",
      "File \u001b[1;32mc:\\Users\\laure\\anaconda3\\envs\\my_chatbot_env\\lib\\site-packages\\lancedb\\query.py:754\u001b[0m, in \u001b[0;36mLanceVectorQueryBuilder.to_batches\u001b[1;34m(self, batch_size)\u001b[0m\n\u001b[0;32m    735\u001b[0m     vector \u001b[38;5;241m=\u001b[39m [v\u001b[38;5;241m.\u001b[39mtolist() \u001b[38;5;28;01mfor\u001b[39;00m v \u001b[38;5;129;01min\u001b[39;00m vector]\n\u001b[0;32m    736\u001b[0m query \u001b[38;5;241m=\u001b[39m Query(\n\u001b[0;32m    737\u001b[0m     vector\u001b[38;5;241m=\u001b[39mvector,\n\u001b[0;32m    738\u001b[0m     \u001b[38;5;28mfilter\u001b[39m\u001b[38;5;241m=\u001b[39m\u001b[38;5;28mself\u001b[39m\u001b[38;5;241m.\u001b[39m_where,\n\u001b[1;32m   (...)\u001b[0m\n\u001b[0;32m    752\u001b[0m     use_index\u001b[38;5;241m=\u001b[39m\u001b[38;5;28mself\u001b[39m\u001b[38;5;241m.\u001b[39m_use_index,\n\u001b[0;32m    753\u001b[0m )\n\u001b[1;32m--> 754\u001b[0m result_set \u001b[38;5;241m=\u001b[39m \u001b[38;5;28;43mself\u001b[39;49m\u001b[38;5;241;43m.\u001b[39;49m\u001b[43m_table\u001b[49m\u001b[38;5;241;43m.\u001b[39;49m\u001b[43m_execute_query\u001b[49m\u001b[43m(\u001b[49m\u001b[43mquery\u001b[49m\u001b[43m,\u001b[49m\u001b[43m \u001b[49m\u001b[43mbatch_size\u001b[49m\u001b[43m)\u001b[49m\n\u001b[0;32m    755\u001b[0m \u001b[38;5;28;01mif\u001b[39;00m \u001b[38;5;28mself\u001b[39m\u001b[38;5;241m.\u001b[39m_reranker \u001b[38;5;129;01mis\u001b[39;00m \u001b[38;5;129;01mnot\u001b[39;00m \u001b[38;5;28;01mNone\u001b[39;00m:\n\u001b[0;32m    756\u001b[0m     rs_table \u001b[38;5;241m=\u001b[39m result_set\u001b[38;5;241m.\u001b[39mread_all()\n",
      "File \u001b[1;32mc:\\Users\\laure\\anaconda3\\envs\\my_chatbot_env\\lib\\site-packages\\lancedb\\table.py:2138\u001b[0m, in \u001b[0;36mLanceTable._execute_query\u001b[1;34m(self, query, batch_size)\u001b[0m\n\u001b[0;32m   2135\u001b[0m \u001b[38;5;28;01mdef\u001b[39;00m\u001b[38;5;250m \u001b[39m\u001b[38;5;21m_execute_query\u001b[39m(\n\u001b[0;32m   2136\u001b[0m     \u001b[38;5;28mself\u001b[39m, query: Query, batch_size: Optional[\u001b[38;5;28mint\u001b[39m] \u001b[38;5;241m=\u001b[39m \u001b[38;5;28;01mNone\u001b[39;00m\n\u001b[0;32m   2137\u001b[0m ) \u001b[38;5;241m-\u001b[39m\u001b[38;5;241m>\u001b[39m pa\u001b[38;5;241m.\u001b[39mRecordBatchReader:\n\u001b[1;32m-> 2138\u001b[0m     \u001b[38;5;28;01mreturn\u001b[39;00m \u001b[43mLOOP\u001b[49m\u001b[38;5;241;43m.\u001b[39;49m\u001b[43mrun\u001b[49m\u001b[43m(\u001b[49m\u001b[38;5;28;43mself\u001b[39;49m\u001b[38;5;241;43m.\u001b[39;49m\u001b[43m_table\u001b[49m\u001b[38;5;241;43m.\u001b[39;49m\u001b[43m_execute_query\u001b[49m\u001b[43m(\u001b[49m\u001b[43mquery\u001b[49m\u001b[43m,\u001b[49m\u001b[43m \u001b[49m\u001b[43mbatch_size\u001b[49m\u001b[43m)\u001b[49m\u001b[43m)\u001b[49m\n",
      "File \u001b[1;32mc:\\Users\\laure\\anaconda3\\envs\\my_chatbot_env\\lib\\site-packages\\lancedb\\background_loop.py:25\u001b[0m, in \u001b[0;36mBackgroundEventLoop.run\u001b[1;34m(self, future)\u001b[0m\n\u001b[0;32m     24\u001b[0m \u001b[38;5;28;01mdef\u001b[39;00m\u001b[38;5;250m \u001b[39m\u001b[38;5;21mrun\u001b[39m(\u001b[38;5;28mself\u001b[39m, future):\n\u001b[1;32m---> 25\u001b[0m     \u001b[38;5;28;01mreturn\u001b[39;00m \u001b[43masyncio\u001b[49m\u001b[38;5;241;43m.\u001b[39;49m\u001b[43mrun_coroutine_threadsafe\u001b[49m\u001b[43m(\u001b[49m\u001b[43mfuture\u001b[49m\u001b[43m,\u001b[49m\u001b[43m \u001b[49m\u001b[38;5;28;43mself\u001b[39;49m\u001b[38;5;241;43m.\u001b[39;49m\u001b[43mloop\u001b[49m\u001b[43m)\u001b[49m\u001b[38;5;241;43m.\u001b[39;49m\u001b[43mresult\u001b[49m\u001b[43m(\u001b[49m\u001b[43m)\u001b[49m\n",
      "File \u001b[1;32mc:\\Users\\laure\\anaconda3\\envs\\my_chatbot_env\\lib\\concurrent\\futures\\_base.py:446\u001b[0m, in \u001b[0;36mFuture.result\u001b[1;34m(self, timeout)\u001b[0m\n\u001b[0;32m    444\u001b[0m     \u001b[38;5;28;01mraise\u001b[39;00m CancelledError()\n\u001b[0;32m    445\u001b[0m \u001b[38;5;28;01melif\u001b[39;00m \u001b[38;5;28mself\u001b[39m\u001b[38;5;241m.\u001b[39m_state \u001b[38;5;241m==\u001b[39m FINISHED:\n\u001b[1;32m--> 446\u001b[0m     \u001b[38;5;28;01mreturn\u001b[39;00m \u001b[38;5;28;43mself\u001b[39;49m\u001b[38;5;241;43m.\u001b[39;49m\u001b[43m__get_result\u001b[49m\u001b[43m(\u001b[49m\u001b[43m)\u001b[49m\n\u001b[0;32m    447\u001b[0m \u001b[38;5;28;01melse\u001b[39;00m:\n\u001b[0;32m    448\u001b[0m     \u001b[38;5;28;01mraise\u001b[39;00m \u001b[38;5;167;01mTimeoutError\u001b[39;00m()\n",
      "File \u001b[1;32mc:\\Users\\laure\\anaconda3\\envs\\my_chatbot_env\\lib\\concurrent\\futures\\_base.py:391\u001b[0m, in \u001b[0;36mFuture.__get_result\u001b[1;34m(self)\u001b[0m\n\u001b[0;32m    389\u001b[0m \u001b[38;5;28;01mif\u001b[39;00m \u001b[38;5;28mself\u001b[39m\u001b[38;5;241m.\u001b[39m_exception:\n\u001b[0;32m    390\u001b[0m     \u001b[38;5;28;01mtry\u001b[39;00m:\n\u001b[1;32m--> 391\u001b[0m         \u001b[38;5;28;01mraise\u001b[39;00m \u001b[38;5;28mself\u001b[39m\u001b[38;5;241m.\u001b[39m_exception\n\u001b[0;32m    392\u001b[0m     \u001b[38;5;28;01mfinally\u001b[39;00m:\n\u001b[0;32m    393\u001b[0m         \u001b[38;5;66;03m# Break a reference cycle with the exception in self._exception\u001b[39;00m\n\u001b[0;32m    394\u001b[0m         \u001b[38;5;28mself\u001b[39m \u001b[38;5;241m=\u001b[39m \u001b[38;5;28;01mNone\u001b[39;00m\n",
      "File \u001b[1;32mc:\\Users\\laure\\anaconda3\\envs\\my_chatbot_env\\lib\\site-packages\\lancedb\\table.py:2886\u001b[0m, in \u001b[0;36mAsyncTable._execute_query\u001b[1;34m(self, query, batch_size)\u001b[0m\n\u001b[0;32m   2883\u001b[0m     fts_columns \u001b[38;5;241m=\u001b[39m query\u001b[38;5;241m.\u001b[39mfull_text_query\u001b[38;5;241m.\u001b[39mget(\u001b[38;5;124m\"\u001b[39m\u001b[38;5;124mcolumns\u001b[39m\u001b[38;5;124m\"\u001b[39m, []) \u001b[38;5;129;01mor\u001b[39;00m []\n\u001b[0;32m   2884\u001b[0m     async_query \u001b[38;5;241m=\u001b[39m async_query\u001b[38;5;241m.\u001b[39mnearest_to_text(fts_query, columns\u001b[38;5;241m=\u001b[39mfts_columns)\n\u001b[1;32m-> 2886\u001b[0m table \u001b[38;5;241m=\u001b[39m \u001b[38;5;28;01mawait\u001b[39;00m async_query\u001b[38;5;241m.\u001b[39mto_arrow()\n\u001b[0;32m   2887\u001b[0m \u001b[38;5;28;01mreturn\u001b[39;00m table\u001b[38;5;241m.\u001b[39mto_reader()\n",
      "File \u001b[1;32mc:\\Users\\laure\\anaconda3\\envs\\my_chatbot_env\\lib\\site-packages\\lancedb\\query.py:2104\u001b[0m, in \u001b[0;36mAsyncVectorQuery.to_arrow\u001b[1;34m(self)\u001b[0m\n\u001b[0;32m   2103\u001b[0m \u001b[38;5;28;01masync\u001b[39;00m \u001b[38;5;28;01mdef\u001b[39;00m\u001b[38;5;250m \u001b[39m\u001b[38;5;21mto_arrow\u001b[39m(\u001b[38;5;28mself\u001b[39m) \u001b[38;5;241m-\u001b[39m\u001b[38;5;241m>\u001b[39m pa\u001b[38;5;241m.\u001b[39mTable:\n\u001b[1;32m-> 2104\u001b[0m     results \u001b[38;5;241m=\u001b[39m \u001b[38;5;28;01mawait\u001b[39;00m \u001b[38;5;28msuper\u001b[39m()\u001b[38;5;241m.\u001b[39mto_arrow()\n\u001b[0;32m   2105\u001b[0m     \u001b[38;5;28;01mif\u001b[39;00m \u001b[38;5;28mself\u001b[39m\u001b[38;5;241m.\u001b[39m_reranker:\n\u001b[0;32m   2106\u001b[0m         results \u001b[38;5;241m=\u001b[39m \u001b[38;5;28mself\u001b[39m\u001b[38;5;241m.\u001b[39m_reranker\u001b[38;5;241m.\u001b[39mrerank_vector(results)\n",
      "File \u001b[1;32mc:\\Users\\laure\\anaconda3\\envs\\my_chatbot_env\\lib\\site-packages\\lancedb\\query.py:1567\u001b[0m, in \u001b[0;36mAsyncQueryBase.to_arrow\u001b[1;34m(self)\u001b[0m\n\u001b[0;32m   1559\u001b[0m \u001b[38;5;28;01masync\u001b[39;00m \u001b[38;5;28;01mdef\u001b[39;00m\u001b[38;5;250m \u001b[39m\u001b[38;5;21mto_arrow\u001b[39m(\u001b[38;5;28mself\u001b[39m) \u001b[38;5;241m-\u001b[39m\u001b[38;5;241m>\u001b[39m pa\u001b[38;5;241m.\u001b[39mTable:\n\u001b[0;32m   1560\u001b[0m \u001b[38;5;250m    \u001b[39m\u001b[38;5;124;03m\"\"\"\u001b[39;00m\n\u001b[0;32m   1561\u001b[0m \u001b[38;5;124;03m    Execute the query and collect the results into an Apache Arrow Table.\u001b[39;00m\n\u001b[0;32m   1562\u001b[0m \n\u001b[1;32m   (...)\u001b[0m\n\u001b[0;32m   1565\u001b[0m \u001b[38;5;124;03m    [to_batches][lancedb.query.AsyncQueryBase.to_batches]\u001b[39;00m\n\u001b[0;32m   1566\u001b[0m \u001b[38;5;124;03m    \"\"\"\u001b[39;00m\n\u001b[1;32m-> 1567\u001b[0m     batch_iter \u001b[38;5;241m=\u001b[39m \u001b[38;5;28;01mawait\u001b[39;00m \u001b[38;5;28mself\u001b[39m\u001b[38;5;241m.\u001b[39mto_batches()\n\u001b[0;32m   1568\u001b[0m     \u001b[38;5;28;01mreturn\u001b[39;00m pa\u001b[38;5;241m.\u001b[39mTable\u001b[38;5;241m.\u001b[39mfrom_batches(\n\u001b[0;32m   1569\u001b[0m         \u001b[38;5;28;01mawait\u001b[39;00m batch_iter\u001b[38;5;241m.\u001b[39mread_all(), schema\u001b[38;5;241m=\u001b[39mbatch_iter\u001b[38;5;241m.\u001b[39mschema\n\u001b[0;32m   1570\u001b[0m     )\n",
      "File \u001b[1;32mc:\\Users\\laure\\anaconda3\\envs\\my_chatbot_env\\lib\\site-packages\\lancedb\\query.py:1557\u001b[0m, in \u001b[0;36mAsyncQueryBase.to_batches\u001b[1;34m(self, max_batch_length)\u001b[0m\n\u001b[0;32m   1542\u001b[0m \u001b[38;5;28;01masync\u001b[39;00m \u001b[38;5;28;01mdef\u001b[39;00m\u001b[38;5;250m \u001b[39m\u001b[38;5;21mto_batches\u001b[39m(\n\u001b[0;32m   1543\u001b[0m     \u001b[38;5;28mself\u001b[39m, \u001b[38;5;241m*\u001b[39m, max_batch_length: Optional[\u001b[38;5;28mint\u001b[39m] \u001b[38;5;241m=\u001b[39m \u001b[38;5;28;01mNone\u001b[39;00m\n\u001b[0;32m   1544\u001b[0m ) \u001b[38;5;241m-\u001b[39m\u001b[38;5;241m>\u001b[39m AsyncRecordBatchReader:\n\u001b[0;32m   1545\u001b[0m \u001b[38;5;250m    \u001b[39m\u001b[38;5;124;03m\"\"\"\u001b[39;00m\n\u001b[0;32m   1546\u001b[0m \u001b[38;5;124;03m    Execute the query and return the results as an Apache Arrow RecordBatchReader.\u001b[39;00m\n\u001b[0;32m   1547\u001b[0m \n\u001b[1;32m   (...)\u001b[0m\n\u001b[0;32m   1555\u001b[0m \u001b[38;5;124;03m        underlying data is stored in smaller chunks.\u001b[39;00m\n\u001b[0;32m   1556\u001b[0m \u001b[38;5;124;03m    \"\"\"\u001b[39;00m\n\u001b[1;32m-> 1557\u001b[0m     \u001b[38;5;28;01mreturn\u001b[39;00m AsyncRecordBatchReader(\u001b[38;5;28;01mawait\u001b[39;00m \u001b[38;5;28mself\u001b[39m\u001b[38;5;241m.\u001b[39m_inner\u001b[38;5;241m.\u001b[39mexecute(max_batch_length))\n",
      "\u001b[1;31mRuntimeError\u001b[0m: lance error: LanceError(Index): vector is not with valid data type: Float64, C:\\bld\\lancedb_1739017314986\\_build_env\\.cargo\\registry\\src\\index.crates.io-6f17d22bba15001f\\lance-0.22.0\\src\\index\\vector\\utils.rs:73:23"
     ]
    }
   ],
   "source": [
    "class HandbookChunk(LanceModel):\n",
    "    chunk_id: str | None = None\n",
    "    file: str | None = None\n",
    "    chunk: str | None = None\n",
    "    vector: Vector | None = None\n",
    "\n",
    "client = OpenAI()\n",
    "query_embedding = client.embeddings.create(\n",
    "input='test',\n",
    "model=\"text-embedding-3-large\"\n",
    ").data[0].embedding\n",
    "\n",
    "results = table.search(query_embedding, vector_column_name='vector').limit(5)\n",
    "print(results.to_pydantic(HandbookChunk))"
   ]
  },
  {
   "cell_type": "code",
   "execution_count": null,
   "metadata": {},
   "outputs": [
    {
     "data": {
      "text/plain": [
       "pyarrow.Table\n",
       "chunk_id: string not null\n",
       "file: string not null\n",
       "chunk: string not null\n",
       "vector: fixed_size_list<item: float>[3072]\n",
       "  child 0, item: float\n",
       "----\n",
       "chunk_id: []\n",
       "file: []\n",
       "chunk: []\n",
       "vector: []"
      ]
     },
     "execution_count": 90,
     "metadata": {},
     "output_type": "execute_result"
    }
   ],
   "source": [
    "HANDBOOK_ROOT_URL = \"https://gitlab.com/gitlab-com/content-sites/handbook/-/tree/main/content\"\n",
    "\n",
    "\n",
    "df2 = df.copy()\n",
    "df2 = df2[['chunk_id', 'file', 'chunk']]\n",
    "\n",
    "df['file'] = HANDBOOK_ROOT_URL + df['file'].str.replace(\"../data/handbook-main-content\\\\content\", \"\", regex=False)\n",
    "db.create_table('embedded_handbook_2', data = df)\n",
    "\n",
    "func = get_registry().get(\"openai\").create(name=\"text-embedding-3-large\")\n",
    "\n",
    "class HandbookChunk2(LanceModel):\n",
    "    chunk_id: str\n",
    "    file: str\n",
    "    chunk: str = func.SourceField()\n",
    "    vector: Vector(func.ndims()) = func.VectorField()\n",
    "\n",
    "    \n",
    "db = lancedb.connect(\"../data/lancedb\")\n",
    "db.drop_database()\n",
    "table = db.create_table(\"embedded_handbook\", schema = HandbookChunk2)\n",
    "table.head()"
   ]
  },
  {
   "cell_type": "code",
   "execution_count": 91,
   "metadata": {},
   "outputs": [],
   "source": [
    "batch_size = 500\n",
    "\n",
    "for i in range(0, len(df2), batch_size):\n",
    "    table.add(df2.iloc[i:i + batch_size])"
   ]
  },
  {
   "cell_type": "code",
   "execution_count": 102,
   "metadata": {},
   "outputs": [
    {
     "name": "stdout",
     "output_type": "stream",
     "text": [
      "### GitLab BV (Belgium)\n",
      "Team members are entitled to at least 20 vacation days/year.  These days will be front-loaded at the beginning of each year. The days taken must be communicated to the Belgian payroll provider each month by People Ops. These days do not carry over into the next calendar year.\n",
      "### GitLab IT BV (Contractors)\n",
      "Contractors do not have statutory vacation requirements, but are eligible for our Flexible Time Off Policy.\n",
      "### GitLab GmbH (Germany)\n",
      "Team members are entitled to at least 20 vacation days. The days will accrue from the start date at a rate of 1.67 days/month. In general, team members must take their annual vacation days during the calendar year, otherwise it is forfeited. However, unused vacation days can be carried forward until the 31st of March of the next calendar year if the employee was unable to take the holiday due to operational or personal reasons.\n",
      "### GitLab PTY (Australia & New Zealand)\n",
      "### GitLab Inc. (USA)\n",
      "The U.S. [Fair Labor Standards Act (FLSA)](https://www.dol.gov/general/topic/workhours/vacation_leave) does not require payment for time not worked, such as vacations, sick leave or federal or other holidays.\n",
      "### GitLab Ireland\n",
      "Team members are entitled to accrue 20 days per year at a rate of 1.67 days/month from the team member's start date. The holiday year will run from January 1st to December 31st of each year. Unused vacation days cannot ordinarily be carried forward into the following holiday year, however, if the team member is unable to take vacation due to long-term sick leave, then unused vacation days can be carried forward for up to 15 months from the end of the relevant holiday year.\n",
      "### GitLab Korea Limited\n",
      "- Team members with 0-1 year of service are entitled to 1 day/month or 12 days/year.\n",
      "- Team members with 1-3 years of service are entitled to 1.25 days/month or 15 days/year.\n",
      "The [culture](/handbook/company/culture/) here at GitLab is something we're incredibly proud of. Because GitLab team members are currently located in over 60 different countries, you'll spend your time collaborating with kind, talented, and motivated colleagues from across the globe. Some of the [benefits](/handbook/total-rewards/benefits/) you'll be entitled to vary by the region or country you're in. However, all GitLab team members are fully remote and receive GitLab's [Flexible PTO policy](/handbook/people-group/paid-time-off/), where there is no set limit per year on the amount of paid time off a team member can take. You can work incredibly flexible hours, enabled by our [asynchronous approach](/handbook/communication/) to communication. We'll also help you set up your [home office environment](/handbook/finance/spending-company-money/), pay for your membership to a co-working space, and contribute to the [travel costs](/handbook/total-rewards/incentives/#visiting-grant)\n",
      "**Marriage or civil union**\n",
      "\n",
      "- 1 day of paid leave for the team member's marriage or civil union when it falls on a week day.\n",
      "- 1 day of unpaid leave for the marriage or civil union of a parent, child, sibling, or child of spouse.\n",
      "- Team Members should select `Paid Time Off` in Workday.\n",
      "\n",
      "**Parental or family obligations** *Team members who have been employed with GitLab for at least 3 months*\n",
      "\n",
      "- 10 days per year; team members are entitled to pay for the first 2 days.\n",
      "- Up to 16 weeks in one 12-month period to care for a loved one due to a serious accident or serious illness\n",
      "- Up to 27 weeks in one 12-month period if the critically ill person suffers from a life-threatening illness\n",
      "- Up to 36 weeks in a 12-month period if the seriously ill or injured person is a minor child.\n",
      "- Team Members should select `Out Sick` in Workday.\n",
      "\n",
      "**Bereavement Leave**\n",
      "- Team members with 3+ years of service are entitled to one additional day for every two years continuously worked up to 25 days/year.\n",
      "- Accrual balances reset January 1st of every year.\n",
      "### GitLab PTE Ltd. (Singapore)\n",
      "- After 3 months of employment, accrual rates will be based on tenure. Team members are allowed to carry over unused vacation up to the statutory accrual limit based on tenure.\n",
      "- 1 year of service:  7 days/year\n",
      "- 2 years of service:  8 days/year\n",
      "- 3 years of service:  9 days/year\n",
      "- 4 years of service:  10 days/year\n",
      "- 5 years of service:  11 days/year\n",
      "- 6 years of service:  12 days/year\n",
      "- 7 years of service:  13 days/year\n",
      "- 8 years of service:  14 days/year\n",
      "### GitLab S.A.S (France)\n"
     ]
    }
   ],
   "source": [
    "class HandbookChunk(LanceModel):\n",
    "    chunk_id: str | None = None\n",
    "    file: str | None = None\n",
    "    chunk: str | None = None\n",
    "    \n",
    "\n",
    "client = OpenAI()\n",
    "query_embedding = client.embeddings.create(\n",
    "input='test',\n",
    "model=\"text-embedding-3-large\"\n",
    ").data[0].embedding\n",
    "\n",
    "results = table.search(\"What is GitLab's approach to paid time off (PTO)\", vector_column_name='vector').limit(5).to_pydantic(HandbookChunk)\n",
    "for result in results:\n",
    "    print(result.chunk)"
   ]
  },
  {
   "cell_type": "markdown",
   "metadata": {},
   "source": [
    "update table to have urls to handbook pages"
   ]
  },
  {
   "cell_type": "code",
   "execution_count": 6,
   "metadata": {},
   "outputs": [],
   "source": [
    "HANDBOOK_ROOT_URL = \"https://gitlab.com/gitlab-com/content-sites/handbook/-/tree/main/content\"\n"
   ]
  },
  {
   "cell_type": "code",
   "execution_count": 3,
   "metadata": {},
   "outputs": [
    {
     "name": "stdout",
     "output_type": "stream",
     "text": [
      "['embedded_handbook']\n",
      "pyarrow.Table\n",
      "chunk_id: string not null\n",
      "file: string not null\n",
      "chunk: string not null\n",
      "vector: fixed_size_list<item: float>[3072]\n",
      "  child 0, item: float\n",
      "----\n",
      "chunk_id: [[\"1\",\"9\",\"12\",\"16\",\"25\"]]\n",
      "file: [[\"../data/handbook-main-content\\content\\handbook\\_index.md\",\"../data/handbook-main-content\\content\\handbook\\about\\direction.md\",\"../data/handbook-main-content\\content\\handbook\\about\\escalation.md\",\"../data/handbook-main-content\\content\\handbook\\about\\escalation.md\",\"../data/handbook-main-content\\content\\handbook\\about\\handbook-usage.md\"]]\n",
      "chunk: [[\"---\n",
      "title: The Handbook\n",
      "no_list: true\n",
      "menu:\n",
      "  main:\n",
      "    name: Handbook\n",
      "    pre: '<i class=\"fa-solid fa-book\"></i>'\n",
      "cascade:\n",
      "      type: docs\n",
      "---\n",
      "\n",
      "## Introduction\n",
      "The GitLab team handbook is the central repository for how we run the company. Printed, it consists of over\n",
      "[2,000 pages of text](/handbook/about/#count-handbook-pages). As part of our value of being\n",
      "transparent the handbook is [open to the world](https://gitlab.com/gitlab-com/content-sites/handbook/), and we welcome\n",
      "feedback. Please make a [merge request](https://gitlab.com/gitlab-com/content-sites/handbook/merge_requests) to suggest\n",
      "improvements or add clarifications. Please use [issues](https://gitlab.com/gitlab-com/content-sites/handbook/issues) to\n",
      "ask questions.\n",
      "\n",
      "For a very specific set of [internal](/handbook/communication/confidentiality-levels/#internal)\n",
      "information we also maintain an [Internal Handbook](https://internal.gitlab.com/handbook/)\n",
      "## Handbook Contents\n",
      "{{< cardpane >}}\",\"## Where we are Headed\n",
      "At GitLab, we encourage everyone to work [handbook first](/handbook/about/handbook-usage/#why-handbook-first) in order to promote asynchronous collaboration and documentation. Working this way has its challenges, not the least of which is the time and effort involved in making a change. While this extra investment can encourage contributors to be more considered and deliberate with their changes, at a certain point it discourages meaningful collaboration and works against our goals.\n",
      "\n",
      "Our hope is that the GitLab Handbook is something that others want to emulate. To facilitate that, we want to ensure that any user can easily use and update the handbook. Ideally, the handbook has:\n",
      "\n",
      "- Organized, and up-to-date content\n",
      "- Fast, predictable deployments\n",
      "- A clean, scalable information architecture and modern codebase\n",
      "### What's Next & Why\n",
      "We are focused on maintaining the handbook's fast (pipeline under 10 minutes) and stable (minimal pipeline failures) state.\",\"---\n",
      "title: Handbook Escalation\n",
      "---\n",
      "\n",
      "For information on team members' roles and responsibilities, see [Content Websites page](maintenance.md).\n",
      "\n",
      "## Introduction\n",
      "The Handbook is a critical part of empowering team members to do their jobs effectively. As such, we have a group of team members who assist in resolving issues affecting all team members.\n",
      "## Reporting an issue\n",
      "If you're looking for general help, please see the [editing handbook page](editing-handbook/_index.md#need-help).\n",
      "\n",
      "Any work stopping issues should be reported in the [#handbook-escalation](https://gitlab.slack.com/archives/CVDP3HG5V) channel in Slack.\n",
      "Otherwise, consider creating an issue in the relevant [content sites repository](https://gitlab.com/gitlab-com/content-sites/) and posting in the [#handbook Slack channel](https://gitlab.enterprise.slack.com/archives/C81PT2ALD).\n",
      "### When to escalate an issue\n",
      "Issues should only be escalated if it relates to:\",\"### Expectations for the group\n",
      "1. Make sure you are in and do not mute the [#handbook-escalation](https://gitlab.slack.com/archives/CVDP3HG5V) channel.\n",
      "1. When an issue is reported:\n",
      "   1. Acknowledge the team member and let them know you are looking into it.\n",
      "   1. You can check on `#production`, `#incident-management`, and `#is-this-known` to see if it's a known issue with infrastructure or other problems.\n",
      "   1. Provide an update as soon as you are able to confirm their problem.\n",
      "   1. You can also post updates in `#mr-buddies` and/or `#handbook` as appropriate.\n",
      "   1. Offer to have a Zoom call to help replicate or resolve the issue if it is not straight forward.\n",
      "   1. Resolve the problem, or provide feedback to the team member on how they can resolve it.\n",
      "   1. If you do not believe you can resolve it and need further assistance, consider any or all of the following:\n",
      "      1. Ping another member of the [Keep main green group](#keep-main-green-group).\",\"> The biggest problem is GitLab not working handbook first. We have an amazing handbook that allows us to collaborate, onboard new people, and think collectively.\n",
      ">\n",
      "> However, it is counterintuitive to communicate changes to the handbook. The default of people, when they wish to communicate a change, is to send a Slack message, send an email, give a presentation, or tell people in a meeting — *anything* but make a change in the handbook.\n",
      ">\n",
      "> It's slower for them. It's quicker to use any other form. If they make a change in the handbook, they first have to find the relevant part of the handbook, they sometimes have to adjust the handbook to make sure their change will fit in, they have to go through a technical process and a review or two, and they have to wait a bit before it's deployed.\n",
      ">\n",
      "> It's slower than any other option. However, it allows people that commit a change after that to build upon a change. When they take that extra time, it's building a foundation for the next thing.\"]]\n",
      "vector: [[[0.0024760664,-0.017002448,-0.01682141,0.0036245238,0.006287285,...,0.011013121,-0.002106448,-0.0026250454,-0.010130563,-0.0038263053],[-0.020737102,-0.019688683,-0.02371276,-0.005045514,-0.000458924,...,-0.0011293626,-0.005619832,-0.012311209,0.005141876,-0.011879507],[-0.035806317,-0.013767879,-0.022873918,-0.04212508,-0.015909238,...,-0.0069120233,0.017467866,-0.020753622,-0.0057360316,-0.005750073],[-0.0043372875,-0.027142268,-0.028737951,-0.011021169,-0.0050569093,...,0.01438462,0.01051274,-0.017067559,0.0013815571,0.01347727],[-0.023537485,-0.0028252907,-0.021381864,-0.024298294,-0.027468326,...,0.006823493,-0.0018584311,-0.007219747,0.025804058,-0.0018237588]]]\n"
     ]
    }
   ],
   "source": [
    "db = lancedb.connect(\"../data/lancedb\")\n",
    "print(db.table_names())\n",
    "\n",
    "table = db.open_table('embedded_handbook')\n",
    "print(table.head())"
   ]
  },
  {
   "cell_type": "code",
   "execution_count": null,
   "metadata": {},
   "outputs": [
    {
     "ename": "ValueError",
     "evalue": "Either updates or updates_sql must be provided",
     "output_type": "error",
     "traceback": [
      "\u001b[1;31m---------------------------------------------------------------------------\u001b[0m",
      "\u001b[1;31mValueError\u001b[0m                                Traceback (most recent call last)",
      "Cell \u001b[1;32mIn[4], line 6\u001b[0m\n\u001b[0;32m      3\u001b[0m     batch[\u001b[38;5;124m\"\u001b[39m\u001b[38;5;124mfile\u001b[39m\u001b[38;5;124m\"\u001b[39m] \u001b[38;5;241m=\u001b[39m [\u001b[38;5;124m\"\u001b[39m\u001b[38;5;124mnew_string\u001b[39m\u001b[38;5;124m\"\u001b[39m \u001b[38;5;241m+\u001b[39m value\u001b[38;5;241m.\u001b[39mlstrip(\u001b[38;5;124m\"\u001b[39m\u001b[38;5;124m../data/handbook-main-content\u001b[39m\u001b[38;5;124m\\\u001b[39m\u001b[38;5;124mcontent\u001b[39m\u001b[38;5;124m\"\u001b[39m) \u001b[38;5;28;01mfor\u001b[39;00m value \u001b[38;5;129;01min\u001b[39;00m batch[\u001b[38;5;124m\"\u001b[39m\u001b[38;5;124mfile\u001b[39m\u001b[38;5;124m\"\u001b[39m]]\n\u001b[0;32m      4\u001b[0m     \u001b[38;5;28;01mreturn\u001b[39;00m batch\n\u001b[1;32m----> 6\u001b[0m \u001b[43mtable\u001b[49m\u001b[38;5;241;43m.\u001b[39;49m\u001b[43mupdate\u001b[49m\u001b[43m(\u001b[49m\u001b[43mupdate_file_column\u001b[49m\u001b[43m)\u001b[49m\n\u001b[0;32m      7\u001b[0m \u001b[38;5;28mprint\u001b[39m(table\u001b[38;5;241m.\u001b[39mhead())\n",
      "File \u001b[1;32mc:\\Users\\laure\\anaconda3\\envs\\my_chatbot_env\\lib\\site-packages\\lancedb\\table.py:2133\u001b[0m, in \u001b[0;36mLanceTable.update\u001b[1;34m(self, where, values, values_sql)\u001b[0m\n\u001b[0;32m   2089\u001b[0m \u001b[38;5;28;01mdef\u001b[39;00m\u001b[38;5;250m \u001b[39m\u001b[38;5;21mupdate\u001b[39m(\n\u001b[0;32m   2090\u001b[0m     \u001b[38;5;28mself\u001b[39m,\n\u001b[0;32m   2091\u001b[0m     where: Optional[\u001b[38;5;28mstr\u001b[39m] \u001b[38;5;241m=\u001b[39m \u001b[38;5;28;01mNone\u001b[39;00m,\n\u001b[1;32m   (...)\u001b[0m\n\u001b[0;32m   2094\u001b[0m     values_sql: Optional[Dict[\u001b[38;5;28mstr\u001b[39m, \u001b[38;5;28mstr\u001b[39m]] \u001b[38;5;241m=\u001b[39m \u001b[38;5;28;01mNone\u001b[39;00m,\n\u001b[0;32m   2095\u001b[0m ):\n\u001b[0;32m   2096\u001b[0m \u001b[38;5;250m    \u001b[39m\u001b[38;5;124;03m\"\"\"\u001b[39;00m\n\u001b[0;32m   2097\u001b[0m \u001b[38;5;124;03m    This can be used to update zero to all rows depending on how many\u001b[39;00m\n\u001b[0;32m   2098\u001b[0m \u001b[38;5;124;03m    rows match the where clause.\u001b[39;00m\n\u001b[1;32m   (...)\u001b[0m\n\u001b[0;32m   2131\u001b[0m \n\u001b[0;32m   2132\u001b[0m \u001b[38;5;124;03m    \"\"\"\u001b[39;00m\n\u001b[1;32m-> 2133\u001b[0m     \u001b[43mLOOP\u001b[49m\u001b[38;5;241;43m.\u001b[39;49m\u001b[43mrun\u001b[49m\u001b[43m(\u001b[49m\u001b[38;5;28;43mself\u001b[39;49m\u001b[38;5;241;43m.\u001b[39;49m\u001b[43m_table\u001b[49m\u001b[38;5;241;43m.\u001b[39;49m\u001b[43mupdate\u001b[49m\u001b[43m(\u001b[49m\u001b[43mvalues\u001b[49m\u001b[43m,\u001b[49m\u001b[43m \u001b[49m\u001b[43mwhere\u001b[49m\u001b[38;5;241;43m=\u001b[39;49m\u001b[43mwhere\u001b[49m\u001b[43m,\u001b[49m\u001b[43m \u001b[49m\u001b[43mupdates_sql\u001b[49m\u001b[38;5;241;43m=\u001b[39;49m\u001b[43mvalues_sql\u001b[49m\u001b[43m)\u001b[49m\u001b[43m)\u001b[49m\n",
      "File \u001b[1;32mc:\\Users\\laure\\anaconda3\\envs\\my_chatbot_env\\lib\\site-packages\\lancedb\\background_loop.py:25\u001b[0m, in \u001b[0;36mBackgroundEventLoop.run\u001b[1;34m(self, future)\u001b[0m\n\u001b[0;32m     24\u001b[0m \u001b[38;5;28;01mdef\u001b[39;00m\u001b[38;5;250m \u001b[39m\u001b[38;5;21mrun\u001b[39m(\u001b[38;5;28mself\u001b[39m, future):\n\u001b[1;32m---> 25\u001b[0m     \u001b[38;5;28;01mreturn\u001b[39;00m \u001b[43masyncio\u001b[49m\u001b[38;5;241;43m.\u001b[39;49m\u001b[43mrun_coroutine_threadsafe\u001b[49m\u001b[43m(\u001b[49m\u001b[43mfuture\u001b[49m\u001b[43m,\u001b[49m\u001b[43m \u001b[49m\u001b[38;5;28;43mself\u001b[39;49m\u001b[38;5;241;43m.\u001b[39;49m\u001b[43mloop\u001b[49m\u001b[43m)\u001b[49m\u001b[38;5;241;43m.\u001b[39;49m\u001b[43mresult\u001b[49m\u001b[43m(\u001b[49m\u001b[43m)\u001b[49m\n",
      "File \u001b[1;32mc:\\Users\\laure\\anaconda3\\envs\\my_chatbot_env\\lib\\concurrent\\futures\\_base.py:446\u001b[0m, in \u001b[0;36mFuture.result\u001b[1;34m(self, timeout)\u001b[0m\n\u001b[0;32m    444\u001b[0m     \u001b[38;5;28;01mraise\u001b[39;00m CancelledError()\n\u001b[0;32m    445\u001b[0m \u001b[38;5;28;01melif\u001b[39;00m \u001b[38;5;28mself\u001b[39m\u001b[38;5;241m.\u001b[39m_state \u001b[38;5;241m==\u001b[39m FINISHED:\n\u001b[1;32m--> 446\u001b[0m     \u001b[38;5;28;01mreturn\u001b[39;00m \u001b[38;5;28;43mself\u001b[39;49m\u001b[38;5;241;43m.\u001b[39;49m\u001b[43m__get_result\u001b[49m\u001b[43m(\u001b[49m\u001b[43m)\u001b[49m\n\u001b[0;32m    447\u001b[0m \u001b[38;5;28;01melse\u001b[39;00m:\n\u001b[0;32m    448\u001b[0m     \u001b[38;5;28;01mraise\u001b[39;00m \u001b[38;5;167;01mTimeoutError\u001b[39;00m()\n",
      "File \u001b[1;32mc:\\Users\\laure\\anaconda3\\envs\\my_chatbot_env\\lib\\concurrent\\futures\\_base.py:391\u001b[0m, in \u001b[0;36mFuture.__get_result\u001b[1;34m(self)\u001b[0m\n\u001b[0;32m    389\u001b[0m \u001b[38;5;28;01mif\u001b[39;00m \u001b[38;5;28mself\u001b[39m\u001b[38;5;241m.\u001b[39m_exception:\n\u001b[0;32m    390\u001b[0m     \u001b[38;5;28;01mtry\u001b[39;00m:\n\u001b[1;32m--> 391\u001b[0m         \u001b[38;5;28;01mraise\u001b[39;00m \u001b[38;5;28mself\u001b[39m\u001b[38;5;241m.\u001b[39m_exception\n\u001b[0;32m    392\u001b[0m     \u001b[38;5;28;01mfinally\u001b[39;00m:\n\u001b[0;32m    393\u001b[0m         \u001b[38;5;66;03m# Break a reference cycle with the exception in self._exception\u001b[39;00m\n\u001b[0;32m    394\u001b[0m         \u001b[38;5;28mself\u001b[39m \u001b[38;5;241m=\u001b[39m \u001b[38;5;28;01mNone\u001b[39;00m\n",
      "File \u001b[1;32mc:\\Users\\laure\\anaconda3\\envs\\my_chatbot_env\\lib\\site-packages\\lancedb\\table.py:3020\u001b[0m, in \u001b[0;36mAsyncTable.update\u001b[1;34m(self, updates, where, updates_sql)\u001b[0m\n\u001b[0;32m   3018\u001b[0m     \u001b[38;5;28;01mraise\u001b[39;00m \u001b[38;5;167;01mValueError\u001b[39;00m(\u001b[38;5;124m\"\u001b[39m\u001b[38;5;124mOnly one of updates or updates_sql can be provided\u001b[39m\u001b[38;5;124m\"\u001b[39m)\n\u001b[0;32m   3019\u001b[0m \u001b[38;5;28;01mif\u001b[39;00m updates \u001b[38;5;129;01mis\u001b[39;00m \u001b[38;5;28;01mNone\u001b[39;00m \u001b[38;5;129;01mand\u001b[39;00m updates_sql \u001b[38;5;129;01mis\u001b[39;00m \u001b[38;5;28;01mNone\u001b[39;00m:\n\u001b[1;32m-> 3020\u001b[0m     \u001b[38;5;28;01mraise\u001b[39;00m \u001b[38;5;167;01mValueError\u001b[39;00m(\u001b[38;5;124m\"\u001b[39m\u001b[38;5;124mEither updates or updates_sql must be provided\u001b[39m\u001b[38;5;124m\"\u001b[39m)\n\u001b[0;32m   3022\u001b[0m \u001b[38;5;28;01mif\u001b[39;00m updates \u001b[38;5;129;01mis\u001b[39;00m \u001b[38;5;129;01mnot\u001b[39;00m \u001b[38;5;28;01mNone\u001b[39;00m:\n\u001b[0;32m   3023\u001b[0m     updates_sql \u001b[38;5;241m=\u001b[39m {k: value_to_sql(v) \u001b[38;5;28;01mfor\u001b[39;00m k, v \u001b[38;5;129;01min\u001b[39;00m updates\u001b[38;5;241m.\u001b[39mitems()}\n",
      "\u001b[1;31mValueError\u001b[0m: Either updates or updates_sql must be provided"
     ]
    }
   ],
   "source": [
    "# transform file string to url\n",
    "def update_file_column(batch):\n",
    "    batch[\"file\"] = [\"new_string\" + value.lstrip(\"../data/handbook-main-content\\content\") for value in batch[\"file\"]]\n",
    "    return batch\n",
    "\n"
   ]
  },
  {
   "cell_type": "code",
   "execution_count": 9,
   "metadata": {},
   "outputs": [
    {
     "data": {
      "text/plain": [
       "LanceTable(name='embedded_handbook_2', version=1, _conn=LanceDBConnection(uri='c:\\\\Saxion\\\\Jaar4\\\\Afstudeerstage\\\\chatbot_git\\\\ChatbotExperiment\\\\journals\\\\..\\\\data\\\\lancedb'))"
      ]
     },
     "execution_count": 9,
     "metadata": {},
     "output_type": "execute_result"
    }
   ],
   "source": [
    "df = table.to_pandas()\n",
    "df['file'] = HANDBOOK_ROOT_URL + df['file'].str.replace(\"../data/handbook-main-content\\\\content\", \"\", regex=False)\n",
    "db.create_table('embedded_handbook_2', data = df)"
   ]
  },
  {
   "cell_type": "code",
   "execution_count": 23,
   "metadata": {},
   "outputs": [
    {
     "data": {
      "text/plain": [
       "14056"
      ]
     },
     "execution_count": 23,
     "metadata": {},
     "output_type": "execute_result"
    }
   ],
   "source": [
    "table = db.open_table('embedded_handbook')\n",
    "len(table)"
   ]
  }
 ],
 "metadata": {
  "kernelspec": {
   "display_name": "my_chatbot_env",
   "language": "python",
   "name": "python3"
  },
  "language_info": {
   "codemirror_mode": {
    "name": "ipython",
    "version": 3
   },
   "file_extension": ".py",
   "mimetype": "text/x-python",
   "name": "python",
   "nbconvert_exporter": "python",
   "pygments_lexer": "ipython3",
   "version": "3.9.21"
  }
 },
 "nbformat": 4,
 "nbformat_minor": 2
}
